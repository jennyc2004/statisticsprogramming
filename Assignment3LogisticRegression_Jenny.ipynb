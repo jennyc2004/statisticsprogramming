{
 "cells": [
  {
   "cell_type": "code",
   "execution_count": 2,
   "metadata": {},
   "outputs": [],
   "source": [
    "%matplotlib inline\n",
    "from pathlib import Path\n",
    "import itertools\n",
    "import pandas as pd\n",
    "import numpy as np\n",
    "import statsmodels.api as sm\n",
    "import statsmodels.formula.api as smf\n",
    "from sklearn import linear_model, datasets\n",
    "import matplotlib.pylab as plt\n",
    "from utilities import *"
   ]
  },
  {
   "cell_type": "code",
   "execution_count": 3,
   "metadata": {},
   "outputs": [
    {
     "data": {
      "text/html": [
       "<div>\n",
       "<style scoped>\n",
       "    .dataframe tbody tr th:only-of-type {\n",
       "        vertical-align: middle;\n",
       "    }\n",
       "\n",
       "    .dataframe tbody tr th {\n",
       "        vertical-align: top;\n",
       "    }\n",
       "\n",
       "    .dataframe thead th {\n",
       "        text-align: right;\n",
       "    }\n",
       "</style>\n",
       "<table border=\"1\" class=\"dataframe\">\n",
       "  <thead>\n",
       "    <tr style=\"text-align: right;\">\n",
       "      <th></th>\n",
       "      <th>Category</th>\n",
       "      <th>currency</th>\n",
       "      <th>sellerRating</th>\n",
       "      <th>Duration</th>\n",
       "      <th>endDay</th>\n",
       "      <th>ClosePrice</th>\n",
       "      <th>OpenPrice</th>\n",
       "      <th>Competitive?</th>\n",
       "    </tr>\n",
       "  </thead>\n",
       "  <tbody>\n",
       "    <tr>\n",
       "      <th>0</th>\n",
       "      <td>Music/Movie/Game</td>\n",
       "      <td>US</td>\n",
       "      <td>3249</td>\n",
       "      <td>5</td>\n",
       "      <td>Mon</td>\n",
       "      <td>0.01</td>\n",
       "      <td>0.01</td>\n",
       "      <td>0</td>\n",
       "    </tr>\n",
       "    <tr>\n",
       "      <th>1</th>\n",
       "      <td>Music/Movie/Game</td>\n",
       "      <td>US</td>\n",
       "      <td>3249</td>\n",
       "      <td>5</td>\n",
       "      <td>Mon</td>\n",
       "      <td>0.01</td>\n",
       "      <td>0.01</td>\n",
       "      <td>0</td>\n",
       "    </tr>\n",
       "  </tbody>\n",
       "</table>\n",
       "</div>"
      ],
      "text/plain": [
       "           Category currency  sellerRating  Duration endDay  ClosePrice  \\\n",
       "0  Music/Movie/Game       US          3249         5    Mon        0.01   \n",
       "1  Music/Movie/Game       US          3249         5    Mon        0.01   \n",
       "\n",
       "   OpenPrice  Competitive?  \n",
       "0       0.01             0  \n",
       "1       0.01             0  "
      ]
     },
     "execution_count": 3,
     "metadata": {},
     "output_type": "execute_result"
    }
   ],
   "source": [
    "DATA = Path('.').resolve().parent/'data'\n",
    "ebay_df = pd.read_csv(DATA/'eBayAuctions.csv')\n",
    "ebay_df.head(2)"
   ]
  },
  {
   "cell_type": "code",
   "execution_count": 4,
   "metadata": {},
   "outputs": [
    {
     "data": {
      "text/plain": [
       "Category        category\n",
       "currency        category\n",
       "sellerRating       int64\n",
       "Duration           int64\n",
       "endDay          category\n",
       "ClosePrice       float64\n",
       "OpenPrice        float64\n",
       "Competitive        int64\n",
       "dtype: object"
      ]
     },
     "execution_count": 4,
     "metadata": {},
     "output_type": "execute_result"
    }
   ],
   "source": [
    "ebay_df.columns = [s.strip().replace('?', '') for s in ebay_df.columns]\n",
    "ebay_df.Category = ebay_df.Category.astype('category')\n",
    "ebay_df.currency = ebay_df.currency.astype('category')\n",
    "ebay_df.endDay = ebay_df.endDay.astype('category')\n",
    "ebay_df.dtypes"
   ]
  },
  {
   "cell_type": "code",
   "execution_count": 5,
   "metadata": {},
   "outputs": [
    {
     "data": {
      "text/plain": [
       "Index(['const', 'sellerRating', 'Duration', 'ClosePrice', 'OpenPrice',\n",
       "       'Competitive', 'Category_Automotive', 'Category_Books',\n",
       "       'Category_Business/Industrial', 'Category_Clothing/Accessories',\n",
       "       'Category_Coins/Stamps', 'Category_Collectibles', 'Category_Computer',\n",
       "       'Category_Electronics', 'Category_EverythingElse',\n",
       "       'Category_Health/Beauty', 'Category_Home/Garden', 'Category_Jewelry',\n",
       "       'Category_Music/Movie/Game', 'Category_Photography',\n",
       "       'Category_Pottery/Glass', 'Category_SportingGoods',\n",
       "       'Category_Toys/Hobbies', 'currency_GBP', 'currency_US', 'endDay_Mon',\n",
       "       'endDay_Sat', 'endDay_Sun', 'endDay_Thu', 'endDay_Tue', 'endDay_Wed'],\n",
       "      dtype='object')"
      ]
     },
     "execution_count": 5,
     "metadata": {},
     "output_type": "execute_result"
    }
   ],
   "source": [
    "# convert categorical variables into indicator and drop the first column of each of them\n",
    "ebay_df = pd.get_dummies(ebay_df, prefix_sep='_')\n",
    "ebay_df.Competitive = ebay_df.Competitive.astype('category')\n",
    "ebay_df = sm.add_constant(ebay_df, prepend=True)\n",
    "ebay_df.drop(columns=['Category_Antique/Art/Craft', 'currency_EUR', 'endDay_Fri'], inplace=True)\n",
    "ebay_df.columns"
   ]
  },
  {
   "cell_type": "code",
   "execution_count": 6,
   "metadata": {},
   "outputs": [],
   "source": [
    "train_df = ebay_df.sample(frac=0.6, random_state=202)\n",
    "valid_df = ebay_df.drop(train_df.index)"
   ]
  },
  {
   "cell_type": "markdown",
   "metadata": {},
   "source": [
    "# Question 1 (5 points) logistic regression with all. Interpret predictor in output. How were they derived from the columns in the csv file?"
   ]
  },
  {
   "cell_type": "code",
   "execution_count": 7,
   "metadata": {},
   "outputs": [
    {
     "name": "stderr",
     "output_type": "stream",
     "text": [
      "C:\\Jenny\\DataScience\\anaconda3\\lib\\site-packages\\statsmodels\\genmod\\families\\family.py:880: RuntimeWarning: invalid value encountered in true_divide\n",
      "  n_endog_mu = self._clean((1. - endog) / (1. - mu))\n",
      "C:\\Jenny\\DataScience\\anaconda3\\lib\\site-packages\\statsmodels\\genmod\\families\\family.py:932: RuntimeWarning: divide by zero encountered in true_divide\n",
      "  special.gammaln(n - y + 1) + y * np.log(mu / (1 - mu)) +\n",
      "C:\\Jenny\\DataScience\\anaconda3\\lib\\site-packages\\statsmodels\\genmod\\families\\family.py:933: RuntimeWarning: divide by zero encountered in log\n",
      "  n * np.log(1 - mu)) * var_weights\n",
      "C:\\Jenny\\DataScience\\anaconda3\\lib\\site-packages\\statsmodels\\genmod\\families\\family.py:933: RuntimeWarning: invalid value encountered in add\n",
      "  n * np.log(1 - mu)) * var_weights\n"
     ]
    },
    {
     "name": "stdout",
     "output_type": "stream",
     "text": [
      "                 Generalized Linear Model Regression Results                  \n",
      "==============================================================================\n",
      "Dep. Variable:            Competitive   No. Observations:                 1183\n",
      "Model:                            GLM   Df Residuals:                     1153\n",
      "Model Family:                Binomial   Df Model:                           29\n",
      "Link Function:                  logit   Scale:                          1.0000\n",
      "Method:                          IRLS   Log-Likelihood:                    nan\n",
      "Date:                Sat, 07 Jul 2018   Deviance:                          nan\n",
      "Time:                        00:06:53   Pearson chi2:                 1.45e+14\n",
      "No. Iterations:                   100   Covariance Type:             nonrobust\n",
      "=================================================================================================\n",
      "                                    coef    std err          z      P>|z|      [0.025      0.975]\n",
      "-------------------------------------------------------------------------------------------------\n",
      "const                            -0.3568      0.537     -0.664      0.506      -1.409       0.696\n",
      "sellerRating                  -4.508e-05   1.61e-05     -2.793      0.005   -7.67e-05   -1.34e-05\n",
      "Duration                          0.0017      0.049      0.035      0.972      -0.094       0.098\n",
      "ClosePrice                        0.1329      0.013      9.843      0.000       0.106       0.159\n",
      "OpenPrice                        -0.1514      0.015    -10.319      0.000      -0.180      -0.123\n",
      "Category_Automotive              -0.7376      0.391     -1.887      0.059      -1.504       0.029\n",
      "Category_Books                    0.0423      0.470      0.090      0.928      -0.879       0.963\n",
      "Category_Business/Industrial      0.4773      0.762      0.627      0.531      -1.015       1.970\n",
      "Category_Clothing/Accessories    -1.9838      0.541     -3.667      0.000      -3.044      -0.923\n",
      "Category_Coins/Stamps            -1.2233      0.638     -1.917      0.055      -2.474       0.027\n",
      "Category_Collectibles             0.1797      0.303      0.594      0.553      -0.413       0.773\n",
      "Category_Computer                 0.1999      0.758      0.264      0.792      -1.285       1.685\n",
      "Category_Electronics              2.1227      0.783      2.710      0.007       0.588       3.658\n",
      "Category_EverythingElse          -1.2301      0.866     -1.420      0.156      -2.928       0.468\n",
      "Category_Health/Beauty           -1.3542      0.442     -3.062      0.002      -2.221      -0.488\n",
      "Category_Home/Garden              0.4186      0.425      0.986      0.324      -0.414       1.251\n",
      "Category_Jewelry                 -0.4671      0.428     -1.091      0.275      -1.306       0.372\n",
      "Category_Music/Movie/Game        -0.1034      0.269     -0.385      0.701      -0.630       0.423\n",
      "Category_Photography              1.1441      1.283      0.892      0.373      -1.371       3.659\n",
      "Category_Pottery/Glass            0.0599      0.755      0.079      0.937      -1.419       1.539\n",
      "Category_SportingGoods           -0.5909      0.483     -1.224      0.221      -1.537       0.355\n",
      "Category_Toys/Hobbies             0.3135      0.311      1.007      0.314      -0.297       0.924\n",
      "currency_GBP                      1.6033      0.590      2.717      0.007       0.447       2.760\n",
      "currency_US                       0.5156      0.248      2.079      0.038       0.029       1.002\n",
      "endDay_Mon                        0.3709      0.243      1.524      0.128      -0.106       0.848\n",
      "endDay_Sat                       -0.6734      0.273     -2.468      0.014      -1.208      -0.139\n",
      "endDay_Sun                       -0.4140      0.268     -1.544      0.123      -0.940       0.112\n",
      "endDay_Thu                       -0.8401      0.571     -1.472      0.141      -1.959       0.279\n",
      "endDay_Tue                       -0.4253      0.320     -1.329      0.184      -1.052       0.202\n",
      "endDay_Wed                       -0.3617      0.451     -0.802      0.423      -1.246       0.523\n",
      "=================================================================================================\n"
     ]
    }
   ],
   "source": [
    "logit_reg = sm.GLM(train_df['Competitive'], train_df.drop(columns=['Competitive']), family=sm.families.Binomial())\n",
    "logit_result = logit_reg.fit()\n",
    "print(logit_result.summary())"
   ]
  },
  {
   "cell_type": "markdown",
   "metadata": {},
   "source": [
    "We can see endDay_Mon is competitive, open price significantly affect the result, different category also has obvious effects. some independent variables changed to category and dummy columns."
   ]
  },
  {
   "cell_type": "markdown",
   "metadata": {},
   "source": [
    "# Question 2 (3 points) predict validation set. accuracy? confusion matrix"
   ]
  },
  {
   "cell_type": "code",
   "execution_count": 8,
   "metadata": {},
   "outputs": [
    {
     "name": "stdout",
     "output_type": "stream",
     "text": [
      "Confusion Matrix (Accuracy 0.7820)\n",
      "\n",
      "         Prediction\n",
      "Reference   0   1\n",
      "        0 294  74\n",
      "        1  98 323\n"
     ]
    }
   ],
   "source": [
    "logit_reg_pred = logit_result.predict(valid_df.drop(columns=['Competitive']))\n",
    "\n",
    "printConfusionMatrix(valid_df['Competitive'], [1 if p > 0.5 else 0 for p in logit_reg_pred])"
   ]
  },
  {
   "cell_type": "markdown",
   "metadata": {},
   "source": [
    "# Question 3 (5 points) logistic excluding closing price. compare accuracy? confusion matrix, lift chart, and decile chart."
   ]
  },
  {
   "cell_type": "code",
   "execution_count": 9,
   "metadata": {},
   "outputs": [
    {
     "name": "stdout",
     "output_type": "stream",
     "text": [
      "                 Generalized Linear Model Regression Results                  \n",
      "==============================================================================\n",
      "Dep. Variable:            Competitive   No. Observations:                 1183\n",
      "Model:                            GLM   Df Residuals:                     1154\n",
      "Model Family:                Binomial   Df Model:                           28\n",
      "Link Function:                  logit   Scale:                          1.0000\n",
      "Method:                          IRLS   Log-Likelihood:                -729.00\n",
      "Date:                Sat, 07 Jul 2018   Deviance:                       1458.0\n",
      "Time:                        00:07:04   Pearson chi2:                 1.22e+03\n",
      "No. Iterations:                     5   Covariance Type:             nonrobust\n",
      "=================================================================================================\n",
      "                                    coef    std err          z      P>|z|      [0.025      0.975]\n",
      "-------------------------------------------------------------------------------------------------\n",
      "const                             0.7689      0.446      1.724      0.085      -0.105       1.643\n",
      "sellerRating                  -5.827e-05   1.35e-05     -4.328      0.000   -8.47e-05   -3.19e-05\n",
      "Duration                         -0.0569      0.040     -1.435      0.151      -0.135       0.021\n",
      "OpenPrice                        -0.0049      0.003     -1.613      0.107      -0.011       0.001\n",
      "Category_Automotive              -0.7305      0.309     -2.366      0.018      -1.336      -0.125\n",
      "Category_Books                   -0.2654      0.429     -0.618      0.536      -1.107       0.576\n",
      "Category_Business/Industrial      0.5489      0.652      0.842      0.400      -0.729       1.827\n",
      "Category_Clothing/Accessories    -0.2045      0.371     -0.551      0.582      -0.932       0.523\n",
      "Category_Coins/Stamps            -1.4664      0.543     -2.701      0.007      -2.530      -0.402\n",
      "Category_Collectibles             0.3494      0.270      1.293      0.196      -0.180       0.879\n",
      "Category_Computer                 1.1101      0.620      1.791      0.073      -0.105       2.325\n",
      "Category_Electronics              1.8268      0.662      2.759      0.006       0.529       3.124\n",
      "Category_EverythingElse          -1.5327      0.759     -2.018      0.044      -3.021      -0.044\n",
      "Category_Health/Beauty           -1.8681      0.431     -4.336      0.000      -2.713      -1.024\n",
      "Category_Home/Garden              0.5227      0.377      1.387      0.165      -0.216       1.261\n",
      "Category_Jewelry                 -0.5260      0.386     -1.363      0.173      -1.283       0.231\n",
      "Category_Music/Movie/Game        -0.4567      0.249     -1.833      0.067      -0.945       0.032\n",
      "Category_Photography              1.7118      1.096      1.562      0.118      -0.436       3.859\n",
      "Category_Pottery/Glass           -0.7403      0.680     -1.089      0.276      -2.072       0.592\n",
      "Category_SportingGoods            0.9649      0.381      2.531      0.011       0.218       1.712\n",
      "Category_Toys/Hobbies             0.1069      0.283      0.378      0.706      -0.448       0.661\n",
      "currency_GBP                      1.5185      0.455      3.338      0.001       0.627       2.410\n",
      "currency_US                       0.0023      0.211      0.011      0.991      -0.412       0.417\n",
      "endDay_Mon                        0.8668      0.220      3.940      0.000       0.436       1.298\n",
      "endDay_Sat                       -0.3784      0.235     -1.608      0.108      -0.840       0.083\n",
      "endDay_Sun                       -0.1418      0.233     -0.609      0.542      -0.598       0.314\n",
      "endDay_Thu                       -0.7959      0.430     -1.849      0.064      -1.639       0.048\n",
      "endDay_Tue                        0.0886      0.270      0.329      0.742      -0.440       0.617\n",
      "endDay_Wed                       -0.2337      0.382     -0.611      0.541      -0.983       0.516\n",
      "=================================================================================================\n",
      "Confusion Matrix (Accuracy 0.6312)\n",
      "\n",
      "         Prediction\n",
      "Reference   0   1\n",
      "        0 184 184\n",
      "        1 107 314\n"
     ]
    },
    {
     "data": {
      "image/png": "[encoded data removed]",
      "text/plain": [
       "<Figure size 360x360 with 1 Axes>"
      ]
     },
     "metadata": {},
     "output_type": "display_data"
    },
    {
     "data": {
      "image/png": "[encoded data removed]",
      "text/plain": [
       "<Figure size 432x288 with 1 Axes>"
      ]
     },
     "metadata": {},
     "output_type": "display_data"
    }
   ],
   "source": [
    "logit_reg_nocloseprice = sm.GLM(train_df['Competitive'], train_df.drop(columns=['Competitive', 'ClosePrice']), \n",
    "                                family=sm.families.Binomial())\n",
    "logit_result_nocloseprice = logit_reg_nocloseprice.fit()\n",
    "print(logit_result_nocloseprice.summary())\n",
    "logit_reg_pred_nocloseprice = logit_result_nocloseprice.predict(valid_df.drop(columns=['Competitive', 'ClosePrice']))\n",
    "\n",
    "printConfusionMatrix(valid_df['Competitive'], [1 if p > 0.5 else 0 for p in logit_reg_pred_nocloseprice])\n",
    "\n",
    "df = pd.DataFrame({'actual': valid_df.Competitive.astype('int'), 'predicted': logit_reg_pred_nocloseprice})\n",
    "df = df.sort_values(by=['predicted'], ascending=False).reset_index(drop=True)\n",
    "\n",
    "# note the addition of the 0 value at the front of the cumulative sum\n",
    "cumActual = pd.concat([pd.Series([0]), 100 * df.actual.cumsum() / df.actual.sum()])\n",
    "lift_df = pd.DataFrame({'percTested': [100 * i / len(df) for i in range(len(df) + 1)],\n",
    "                        'percCumActual': cumActual})\n",
    "\n",
    "ax = lift_df.plot(x='percTested', y='percCumActual', legend=False, figsize=[5, 5])\n",
    "ax.plot([0, 100], [0, 100], linestyle='--', color='k')\n",
    "ax.set_xlabel('# cases')\n",
    "ax.set_ylabel('Cumulative')\n",
    "plt.show()\n",
    "\n",
    "groups = [int(10 * i / len(df.predicted)) for i in range(len(df.predicted))]\n",
    "meanPercentile = df.predicted.groupby(groups).mean()\n",
    "meanResponse = meanPercentile / df.predicted.mean()\n",
    "meanResponse.index = (meanResponse.index + 1) * 10\n",
    "\n",
    "ax = meanResponse.plot.bar(color='C0')\n",
    "ax.set_ylim(0, 8)\n",
    "ax.set_xlabel('Percentile')\n",
    "ax.set_ylabel('Mean Response')\n",
    "ax.set_title('Decile-wise Lift Chart')\n",
    "\n",
    "for p in ax.patches:\n",
    "    ax.annotate('{:.1f}'.format(p.get_height()), (p.get_x(), p.get_height() + 0.1))\n",
    "\n",
    "plt.tight_layout() \n",
    "plt.show()"
   ]
  },
  {
   "cell_type": "markdown",
   "metadata": {},
   "source": [
    "# Question 4 (2 points) Interpret the meaning of the coefficient for closing price. Does closing price have a practical significance? "
   ]
  },
  {
   "cell_type": "markdown",
   "metadata": {},
   "source": [
    "                                    coef    std err          z      P>|z|      [0.025      0.975]\n",
    "-------------------------------------------------------------------------------------------------\n",
    "ClosePrice                        0.1329      0.013      9.843      0.000       0.106       0.159\n",
    "\n",
    "coefficient for closing price p value shows the signifance. But since the closing price is after bid, it does not have a practical significance."
   ]
  },
  {
   "cell_type": "code",
   "execution_count": null,
   "metadata": {},
   "outputs": [],
   "source": []
  }
 ],
 "metadata": {
  "kernelspec": {
   "display_name": "Python 3",
   "language": "python",
   "name": "python3"
  },
  "language_info": {
   "codemirror_mode": {
    "name": "ipython",
    "version": 3
   },
   "file_extension": ".py",
   "mimetype": "text/x-python",
   "name": "python",
   "nbconvert_exporter": "python",
   "pygments_lexer": "ipython3",
   "version": "3.6.5"
  }
 },
 "nbformat": 4,
 "nbformat_minor": 2
}
