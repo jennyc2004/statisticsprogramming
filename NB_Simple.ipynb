{
 "cells": [
  {
   "cell_type": "code",
   "execution_count": 2,
   "metadata": {},
   "outputs": [],
   "source": [
    "import pandas as pd\n",
    "import numpy as np\n",
    "from sklearn.model_selection import train_test_split\n",
    "from sklearn.naive_bayes import MultinomialNB"
   ]
  },
  {
   "cell_type": "code",
   "execution_count": 4,
   "metadata": {},
   "outputs": [
    {
     "name": "stdout",
     "output_type": "stream",
     "text": [
      "   Online_0  Online_1  CreditCard_0  CreditCard_1 Personal_Loan\n",
      "0         1         0             1             0             0\n",
      "1         1         0             1             0             0\n",
      "2         1         0             1             0             0\n",
      "3         1         0             1             0             0\n",
      "4         1         0             0             1             0\n"
     ]
    }
   ],
   "source": [
    "dataset = pd.read_csv('UniversalBank.csv')\n",
    "dataset= dataset[['Online', 'CreditCard', 'Personal Loan']]\n",
    "dataset.columns = [s.strip().replace(' ', '_') for s in \n",
    "                   dataset.columns]\n",
    "dataset.Online = dataset.Online.astype('category')\n",
    "dataset.CreditCard = dataset.CreditCard.astype('category')\n",
    "dataset = pd.get_dummies(dataset, prefix_sep='_')\n",
    "dataset.Personal_Loan = dataset.Personal_Loan.astype('category')\n",
    "columns = list(dataset.columns)\n",
    "columns.remove('Personal_Loan') \n",
    "columns.append('Personal_Loan') #set as last column\n",
    "dataset = dataset[columns]\n",
    "print(dataset.head())\n",
    "# split dataset\n",
    "nvars = dataset.shape[1]\n",
    "X = dataset.iloc[:,0:nvars-1]\n",
    "y = dataset.iloc[:,nvars-1]\n",
    "X_train, X_test, y_train, y_test = train_test_split(X, y, random_state= 0, test_size = 0.4)\n",
    "#Creating a model based on Multinomial Naive Bayes\n",
    "nb = MultinomialNB()\n",
    "#Training the model with the train data\n",
    "nb.fit(X_train, y_train)\n",
    "#Predicting category on test data based on trained model\n",
    "y_pred = nb.predict(X_test)"
   ]
  },
  {
   "cell_type": "code",
   "execution_count": null,
   "metadata": {},
   "outputs": [],
   "source": []
  }
 ],
 "metadata": {
  "kernelspec": {
   "display_name": "Python 3",
   "language": "python",
   "name": "python3"
  },
  "language_info": {
   "codemirror_mode": {
    "name": "ipython",
    "version": 3
   },
   "file_extension": ".py",
   "mimetype": "text/x-python",
   "name": "python",
   "nbconvert_exporter": "python",
   "pygments_lexer": "ipython3",
   "version": "3.6.5"
  }
 },
 "nbformat": 4,
 "nbformat_minor": 2
}
