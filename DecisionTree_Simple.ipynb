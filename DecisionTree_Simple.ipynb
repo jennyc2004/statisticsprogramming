{
 "cells": [
  {
   "cell_type": "code",
   "execution_count": 1,
   "metadata": {},
   "outputs": [],
   "source": [
    "import pandas as pd\n",
    "import numpy as np\n",
    "from sklearn.tree import DecisionTreeRegressor, DecisionTreeClassifier\n",
    "from sklearn.model_selection import train_test_split, cross_val_score\n",
    "from sklearn.metrics import mean_squared_error, accuracy_score"
   ]
  },
  {
   "cell_type": "code",
   "execution_count": 2,
   "metadata": {},
   "outputs": [
    {
     "data": {
      "text/plain": [
       "1422.5485043804708"
      ]
     },
     "execution_count": 2,
     "metadata": {},
     "output_type": "execute_result"
    }
   ],
   "source": [
    "dataset = pd.read_csv('ToyotaCorolla.csv')\n",
    "columns = ['Price', 'Age_08_04', 'KM', 'Fuel_Type', 'HP', 'Automatic', 'Doors', \n",
    "           'Quarterly_Tax', 'Mfr_Guarantee', 'Guarantee_Period', 'Airco', \n",
    "           'Automatic_airco', 'CD_Player', 'Powered_Windows', 'Sport_Model', 'Tow_Bar']\n",
    "dataset = dataset[columns]\n",
    "df_Fuel_Type = pd.get_dummies(dataset['Fuel_Type'])\n",
    "dataset = pd.concat([dataset, df_Fuel_Type], axis=1)\n",
    "# Only two of the fuel type indicator columns are required, drop the original column and the CNG column\n",
    "dataset = dataset.drop(columns=['Fuel_Type','CNG'])\n",
    "columns = list(dataset.columns)\n",
    "columns.remove('Price')\n",
    "columns.append('Price')\n",
    "dataset = dataset[columns]\n",
    "\n",
    "# split dataset\n",
    "nvars = dataset.shape[1]\n",
    "X = dataset.iloc[:,0:nvars-1]\n",
    "y = dataset.iloc[:,nvars-1]\n",
    "X_train, X_test, y_train, y_test = train_test_split(X, y, random_state= 0, test_size = 0.4)\n",
    "\n",
    "#Creating a model based on regression tree\n",
    "regtree = DecisionTreeRegressor(random_state=0, max_depth=6, min_samples_leaf = 5)\n",
    "\n",
    "#Training the model with the train data\n",
    "regtree.fit(X_train, y_train)\n",
    "\n",
    "#Predicting price on test data based on trained model\n",
    "y_pred = regtree.predict(X_test)\n",
    "\n",
    "#evaluate model\n",
    "import math\n",
    "math.sqrt(mean_squared_error(y_test, y_pred))"
   ]
  },
  {
   "cell_type": "code",
   "execution_count": 3,
   "metadata": {},
   "outputs": [
    {
     "data": {
      "text/plain": [
       "0.8139130434782609"
      ]
     },
     "execution_count": 3,
     "metadata": {},
     "output_type": "execute_result"
    }
   ],
   "source": [
    "dataset['binned_price'] = pd.cut(dataset.Price, 5, labels=False).astype('category')\n",
    "# split dataset\n",
    "nvars = dataset.shape[1]\n",
    "X = dataset.iloc[:,0:nvars-2]\n",
    "y = dataset.iloc[:,nvars-1]\n",
    "X_train, X_test, y_train, y_test = train_test_split(X, y, random_state= 0, test_size = 0.4)\n",
    "\n",
    "#Creating a model based on classification tree\n",
    "cltree = DecisionTreeClassifier(random_state=0)\n",
    "\n",
    "#Training the model with the train data\n",
    "cltree.fit(X_train, y_train)\n",
    "\n",
    "#Predicting category on test data based on trained model\n",
    "y_pred = cltree.predict(X_test)\n",
    "\n",
    "#evaluate model\n",
    "\n",
    "accuracy_score(y_test, y_pred)"
   ]
  },
  {
   "cell_type": "code",
   "execution_count": null,
   "metadata": {},
   "outputs": [],
   "source": []
  }
 ],
 "metadata": {
  "kernelspec": {
   "display_name": "Python 3",
   "language": "python",
   "name": "python3"
  },
  "language_info": {
   "codemirror_mode": {
    "name": "ipython",
    "version": 3
   },
   "file_extension": ".py",
   "mimetype": "text/x-python",
   "name": "python",
   "nbconvert_exporter": "python",
   "pygments_lexer": "ipython3",
   "version": "3.6.5"
  }
 },
 "nbformat": 4,
 "nbformat_minor": 2
}
