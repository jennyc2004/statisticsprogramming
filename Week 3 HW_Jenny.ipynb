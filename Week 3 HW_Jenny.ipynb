{
 "cells": [
  {
   "cell_type": "markdown",
   "metadata": {},
   "source": [
    "Question 1 PART 1: (1 point)\n",
    "\n",
    "Load the MovieData.csv dataset into a pandas DataFrame as described in this week's lesson, and use it to find the following values:\n",
    "\n",
    "a. What is the median profit of movies with budgets of over $50M?\n",
    "\n",
    "b. How many movies were released by each film distributor? Output the results to a csv file.\n",
    "\n",
    "PART 2: (6 points)\n",
    "\n",
    "c. What are the mean and median movie profits by decade? Which decade was the most profitable? (Hint: Answering this question requires several steps: grouping the movies by decade, computing the mean and median profits for each decade, and combining the results back together.)"
   ]
  },
  {
   "cell_type": "code",
   "execution_count": 1,
   "metadata": {},
   "outputs": [
    {
     "name": "stdout",
     "output_type": "stream",
     "text": [
      "the median profit of movies with budgets of over $50M =  89246220.0\n",
      "Distributor\n",
      "0                                  659\n",
      "20th Century Fox                   230\n",
      "3D Entertainment                     1\n",
      "8 X Entertainment                    1\n",
      "ART                                  1\n",
      "Access                               1\n",
      "Alliance                             4\n",
      "American International Pictures      1\n",
      "Anchor Bay                           4\n",
      "Apparition                           4\n",
      "Artisan                             23\n",
      "Artistic License                     1\n",
      "Atlantic                             1\n",
      "Attitude Films                       1\n",
      "Avatar                               1\n",
      "Avco Embassy                         5\n",
      "Barking Cow                          1\n",
      "Big Pictures                         1\n",
      "Bigger Picture                       1\n",
      "Black Diamond Pictures               1\n",
      "Buena Vista                        227\n",
      "CBS Films                            3\n",
      "CFP                                  1\n",
      "CHRIST                               1\n",
      "Cannon                               4\n",
      "Cinema Service                       1\n",
      "Cinema con Sabor                     1\n",
      "Cloud Ten Pictures                   1\n",
      "Columbia                            26\n",
      "Consolidated Pictures Group          1\n",
      "                                  ... \n",
      "Third Rail                           2\n",
      "TriStar Pictures                     4\n",
      "Trimark                              9\n",
      "Triumph                              1\n",
      "Truly Indie                          1\n",
      "USA Films                           15\n",
      "United Artists                      23\n",
      "United Film Distribution             2\n",
      "Universal                          261\n",
      "Universal/Arenas Entertainment       1\n",
      "Universal/Rogue                      1\n",
      "Videos                               1\n",
      "Vitagraph Films                      2\n",
      "Walt Disney Co.                      9\n",
      "Walt Disney Pictures                 1\n",
      "Warner Bros.                       311\n",
      "Warner Independent                   3\n",
      "Warner Independent Pictures          7\n",
      "Weinstein                            1\n",
      "Weinstein Ci.                        1\n",
      "Weinstein Co.                       33\n",
      "Weinstein/Dimension                  1\n",
      "Weintraub                            2\n",
      "WellSpring                           2\n",
      "Wellspring                           1\n",
      "WinStar                              1\n",
      "Winstar                              1\n",
      "Yash Raj                             1\n",
      "Zeitgeist                            7\n",
      "Zion                                 1\n",
      "Name: Movie, Length: 209, dtype: int64\n",
      "movies count released by each film distributor is written to file moviecount.csv\n",
      "         mean_profit  median_profit\n",
      "decade                             \n",
      "1910    6.101364e+06      7800000.0\n",
      "1920    6.346800e+06      3979000.0\n",
      "1930    3.892876e+07      2265500.0\n",
      "1940    1.025301e+07      6012000.0\n",
      "1950    1.816625e+07      8690000.0\n",
      "1960    2.845890e+07     10564923.0\n",
      "1970    6.358547e+07     19533200.0\n",
      "1980    5.114162e+07     16168359.0\n",
      "1990    5.751548e+07      9133087.0\n",
      "2000    5.318013e+07      8762690.0\n",
      "2010    6.331232e+07      8626300.0\n",
      "decade 1970 was the most profitable decade\n"
     ]
    },
    {
     "name": "stderr",
     "output_type": "stream",
     "text": [
      "C:\\Jenny\\DataScience\\anaconda3\\lib\\site-packages\\ipykernel_launcher.py:16: SettingWithCopyWarning: \n",
      "A value is trying to be set on a copy of a slice from a DataFrame\n",
      "\n",
      "See the caveats in the documentation: http://pandas.pydata.org/pandas-docs/stable/indexing.html#indexing-view-versus-copy\n",
      "  app.launch_new_instance()\n"
     ]
    }
   ],
   "source": [
    "import pandas as pd\n",
    "import datetime as dt\n",
    "\n",
    "def makedate(str):\n",
    "    m,d,y = str.split(\"/\")\n",
    "    m = int(m)\n",
    "    d = int(d)\n",
    "    y = int(y)\n",
    "    if y > 13:\n",
    "        y += 1900\n",
    "    else:\n",
    "        y += 2000\n",
    "    return dt.datetime(y,m,d)\n",
    "movies = pd.read_csv(\"MovieData.csv\", na_values = [\"Unknown\", \"Unkno\"], sep='\\t', parse_dates = [0], date_parser = makedate)\n",
    "movies = movies.fillna(0)\n",
    "movies[\"Worldwide Gross\"][movies[\"Worldwide Gross\"] == 0] = movies[\"US Gross\"]\n",
    "movies[\"profit\"] = movies[\"Worldwide Gross\"] - movies[\"Budget\"]\n",
    "print(\"the median profit of movies with budgets of over $50M = \", movies[movies[\"Budget\"] > 50e6].profit.median())\n",
    "\n",
    "by_distributor = movies.groupby(\"Distributor\")\n",
    "count = by_distributor.Movie.aggregate(len)\n",
    "print(count)\n",
    "print(\"movies count released by each film distributor is written to file moviecount.csv\")\n",
    "count.to_csv(\"moviecount.csv\")#output movie counts by each film distributor to csv file\n",
    "\n",
    "movies[\"year\"] = movies.Release_Date.apply(lambda x : x.year)\n",
    "movies[\"decade\"] = movies.year.apply(lambda x : int(x / 10)*10)\n",
    "by_decade = movies.groupby(\"decade\")\n",
    "decade_means = by_decade.profit.mean()\n",
    "decade_median = by_decade.profit.median()\n",
    "df = pd.DataFrame({'mean_profit': decade_means,'median_profit':decade_median})\n",
    "print(df)\n",
    "print(\"decade\",decade_means.idxmax(),  \"was the most profitable decade\")\n"
   ]
  },
  {
   "cell_type": "markdown",
   "metadata": {},
   "source": [
    "Question 2 PART 1: (1 point)\n",
    "\n",
    "Load the earthquake data in QuakeData.csv into a DataFrame, and use it to answer the following questions:\n",
    "\n",
    "a. What is the median earthquake magnitude?\n",
    "\n",
    "b. What is the correlation between magnitude and depth?\n",
    "\n",
    "PART 2: (7 points)\n",
    "\n",
    "c. What fraction (not count) of earthquakes happen each month, across all years (i.e. all earthquakes occurring in January as a proportion of the grand total, all earthquakes in February as a proportion of the grand total, etc.)?\n",
    "\n",
    "d. Is there correlation between the number of movies released monthly (i.e. Jan-1990, Feb-1990... ) , and the number of earthquakes in that month?"
   ]
  },
  {
   "cell_type": "code",
   "execution_count": 2,
   "metadata": {},
   "outputs": [
    {
     "name": "stdout",
     "output_type": "stream",
     "text": [
      "the median earthquake magnitude =  4.5\n",
      "the correlation between magnitude and depth =  0.029175159159976656\n"
     ]
    }
   ],
   "source": [
    "def makeDate(str):\n",
    "    y = int(str[0:4])\n",
    "    m = int(str[5:7])\n",
    "    d = int(str[8:10])\n",
    "    h = int(str[11:13])\n",
    "    min = int(str[14:16])\n",
    "    s = int(str[17:19])\n",
    "    return dt.datetime(y, m, d, h, min, s)\n",
    "quakes = pd.read_csv(\"QuakeData.csv\", sep=\",\", parse_dates = [0], date_parser = makeDate)\n",
    "print(\"the median earthquake magnitude = \", quakes.Magnitude.median())\n",
    "print(\"the correlation between magnitude and depth = \", quakes.Magnitude.corr(quakes.Depth))"
   ]
  },
  {
   "cell_type": "code",
   "execution_count": 3,
   "metadata": {},
   "outputs": [
    {
     "name": "stdout",
     "output_type": "stream",
     "text": [
      "       quakecounts  fraction\n",
      "month                       \n",
      "1             1024  0.080732\n",
      "2             1081  0.085225\n",
      "3             1145  0.090271\n",
      "4             1393  0.109823\n",
      "5             1058  0.083412\n",
      "6              900  0.070956\n",
      "7              882  0.069536\n",
      "8             1022  0.080574\n",
      "9             1132  0.089246\n",
      "10            1051  0.082860\n",
      "11             996  0.078524\n",
      "12            1000  0.078839\n",
      "the number of movies released monthly and the number of earthquakes in that month correlation= 0.016073604515738776\n"
     ]
    }
   ],
   "source": [
    "quakes['month'] = quakes.DateTime.apply(lambda x: x.month)\n",
    "quakes_by_month = quakes.groupby('month')\n",
    "counts = quakes_by_month.EventID.aggregate(len)\n",
    "df = pd.DataFrame({'quakecounts': counts})\n",
    "total = df.quakecounts.sum()\n",
    "df['fraction'] = df['quakecounts']/total\n",
    "print(df)\n",
    "\n",
    "quakes['year'] = quakes.DateTime.apply(lambda x: x.year)\n",
    "movies['month'] = movies.Release_Date.apply(lambda x : x.month)\n",
    "\n",
    "movies_by_monthly = movies.groupby(['year','month'])\n",
    "quakes_by_monthly = quakes.groupby(['year','month'])\n",
    "moviecounts = movies_by_monthly.Movie.aggregate(len)\n",
    "quakescounts = quakes_by_monthly.EventID.aggregate(len)\n",
    "quakemovie_df = pd.DataFrame({'quakecounts': quakescounts, 'moviecounts': moviecounts})\n",
    "corr = quakemovie_df.quakecounts.corr(quakemovie_df.moviecounts)\n",
    "print(\"the number of movies released monthly and the number of earthquakes in that month correlation=\",corr)"
   ]
  },
  {
   "cell_type": "markdown",
   "metadata": {},
   "source": [
    "Not much correlation between the number of movies released monthly and the number of earthquakes in that month"
   ]
  }
 ],
 "metadata": {
  "kernelspec": {
   "display_name": "Python 3",
   "language": "python",
   "name": "python3"
  },
  "language_info": {
   "codemirror_mode": {
    "name": "ipython",
    "version": 3
   },
   "file_extension": ".py",
   "mimetype": "text/x-python",
   "name": "python",
   "nbconvert_exporter": "python",
   "pygments_lexer": "ipython3",
   "version": "3.6.5"
  }
 },
 "nbformat": 4,
 "nbformat_minor": 2
}
