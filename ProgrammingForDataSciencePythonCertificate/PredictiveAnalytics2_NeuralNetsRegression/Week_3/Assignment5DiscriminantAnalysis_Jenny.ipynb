{
 "cells": [
  {
   "cell_type": "code",
   "execution_count": 2,
   "metadata": {},
   "outputs": [],
   "source": [
    "%matplotlib inline\n",
    "\n",
    "from pathlib import Path\n",
    "\n",
    "import numpy as np\n",
    "import pandas as pd\n",
    "from sklearn.discriminant_analysis import LinearDiscriminantAnalysis\n",
    "from sklearn.neural_network import MLPClassifier\n",
    "import matplotlib.pylab as plt\n",
    "from sklearn.preprocessing import MinMaxScaler, LabelEncoder\n",
    "from sklearn.model_selection import train_test_split\n",
    "from utilities import *\n",
    "\n",
    "DATA = Path('.').resolve().parent / 'data'"
   ]
  },
  {
   "cell_type": "markdown",
   "metadata": {},
   "source": [
    "# Question 1 (6 points) \n",
    "Run a discriminant analysis with both predictors using the entire dataset as training data. \n",
    "Among those who completed the tasks, what is the percentage of administrators who are classified incorrectly as failing to complete the tasks? "
   ]
  },
  {
   "cell_type": "code",
   "execution_count": 3,
   "metadata": {},
   "outputs": [
    {
     "data": {
      "text/html": [
       "<div>\n",
       "<style scoped>\n",
       "    .dataframe tbody tr th:only-of-type {\n",
       "        vertical-align: middle;\n",
       "    }\n",
       "\n",
       "    .dataframe tbody tr th {\n",
       "        vertical-align: top;\n",
       "    }\n",
       "\n",
       "    .dataframe thead th {\n",
       "        text-align: right;\n",
       "    }\n",
       "</style>\n",
       "<table border=\"1\" class=\"dataframe\">\n",
       "  <thead>\n",
       "    <tr style=\"text-align: right;\">\n",
       "      <th></th>\n",
       "      <th>Experience</th>\n",
       "      <th>Training</th>\n",
       "      <th>Completed_task</th>\n",
       "    </tr>\n",
       "  </thead>\n",
       "  <tbody>\n",
       "    <tr>\n",
       "      <th>0</th>\n",
       "      <td>10.9</td>\n",
       "      <td>4</td>\n",
       "      <td>Yes</td>\n",
       "    </tr>\n",
       "    <tr>\n",
       "      <th>1</th>\n",
       "      <td>9.9</td>\n",
       "      <td>4</td>\n",
       "      <td>Yes</td>\n",
       "    </tr>\n",
       "    <tr>\n",
       "      <th>2</th>\n",
       "      <td>10.4</td>\n",
       "      <td>6</td>\n",
       "      <td>Yes</td>\n",
       "    </tr>\n",
       "    <tr>\n",
       "      <th>3</th>\n",
       "      <td>13.7</td>\n",
       "      <td>6</td>\n",
       "      <td>Yes</td>\n",
       "    </tr>\n",
       "    <tr>\n",
       "      <th>4</th>\n",
       "      <td>9.4</td>\n",
       "      <td>8</td>\n",
       "      <td>Yes</td>\n",
       "    </tr>\n",
       "  </tbody>\n",
       "</table>\n",
       "</div>"
      ],
      "text/plain": [
       "   Experience  Training Completed_task\n",
       "0        10.9         4            Yes\n",
       "1         9.9         4            Yes\n",
       "2        10.4         6            Yes\n",
       "3        13.7         6            Yes\n",
       "4         9.4         8            Yes"
      ]
     },
     "execution_count": 3,
     "metadata": {},
     "output_type": "execute_result"
    }
   ],
   "source": [
    "sysadmin_df = pd.read_csv(DATA / 'SystemAdministrators.csv')\n",
    "sysadmin_df.columns = [s.strip().replace(' ', '_') for s in sysadmin_df.columns]\n",
    "sysadmin_df.head()"
   ]
  },
  {
   "cell_type": "code",
   "execution_count": 4,
   "metadata": {},
   "outputs": [],
   "source": [
    "scaleInput = MinMaxScaler()\n",
    "X = scaleInput.fit_transform(sysadmin_df.drop(columns=['Completed_task']))\n",
    "labelOutput = LabelEncoder()\n",
    "y = labelOutput.fit_transform(sysadmin_df['Completed_task'])"
   ]
  },
  {
   "cell_type": "code",
   "execution_count": 5,
   "metadata": {},
   "outputs": [
    {
     "data": {
      "text/plain": [
       "LinearDiscriminantAnalysis(n_components=None, priors=None, shrinkage=None,\n",
       "              solver='svd', store_covariance=False, tol=0.0001)"
      ]
     },
     "execution_count": 5,
     "metadata": {},
     "output_type": "execute_result"
    }
   ],
   "source": [
    "da_clf = LinearDiscriminantAnalysis()\n",
    "da_clf.fit(X, y)"
   ]
  },
  {
   "cell_type": "code",
   "execution_count": 6,
   "metadata": {},
   "outputs": [
    {
     "name": "stderr",
     "output_type": "stream",
     "text": [
      "C:\\Jenny\\DataScience\\anaconda3\\lib\\site-packages\\sklearn\\preprocessing\\label.py:151: DeprecationWarning: The truth value of an empty array is ambiguous. Returning False, but in future this will result in an error. Use `array.size > 0` to check that an array is not empty.\n",
      "  if diff:\n"
     ]
    }
   ],
   "source": [
    "train_predict = da_clf.predict(X)\n",
    "y_predict = labelOutput.inverse_transform(train_predict)"
   ]
  },
  {
   "cell_type": "code",
   "execution_count": 7,
   "metadata": {},
   "outputs": [
    {
     "name": "stdout",
     "output_type": "stream",
     "text": [
      "Confusion Matrix (Accuracy 0.9067)\n",
      "\n",
      "         Prediction\n",
      "Reference  0  1\n",
      "        0 58  2\n",
      "        1  5 10\n"
     ]
    }
   ],
   "source": [
    "printConfusionMatrix(sysadmin_df['Completed_task'], y_predict)"
   ]
  },
  {
   "cell_type": "code",
   "execution_count": 8,
   "metadata": {},
   "outputs": [
    {
     "name": "stdout",
     "output_type": "stream",
     "text": [
      "33.3% administrators who are classified incorrectly as failing to complete the tasks\n"
     ]
    }
   ],
   "source": [
    "print('{:.1%}'.format(5/15), 'administrators who are classified incorrectly as failing to complete the tasks') "
   ]
  },
  {
   "cell_type": "markdown",
   "metadata": {},
   "source": [
    "# Question 2 (4 points)\n",
    "Compute the two classification scores (the \"task completed\" classification score and the \"task not completed\" classification score) for an administrator with four months of experience and six credits of training. is this administrator classified as \"task not completed\" or \"task completed\"? "
   ]
  },
  {
   "cell_type": "code",
   "execution_count": 9,
   "metadata": {},
   "outputs": [],
   "source": [
    "newAdmin = pd.DataFrame([{'Experience' : 4, 'Training' : 6}])\n",
    "X_newAdmin = scaleInput.fit_transform(newAdmin)"
   ]
  },
  {
   "cell_type": "code",
   "execution_count": 10,
   "metadata": {},
   "outputs": [
    {
     "name": "stdout",
     "output_type": "stream",
     "text": [
      "the \"task completed\" classification score= [0.99989136]\n",
      "the \"task not completed\" classification score= [0.00010864]\n"
     ]
    }
   ],
   "source": [
    "print('the \"task completed\" classification score=',da_clf.predict_proba(X_newAdmin)[:, 0])\n",
    "print('the \"task not completed\" classification score=',da_clf.predict_proba(X_newAdmin)[:, 1])"
   ]
  },
  {
   "cell_type": "markdown",
   "metadata": {},
   "source": [
    "this administrator is classified as \"task not completed\""
   ]
  },
  {
   "cell_type": "markdown",
   "metadata": {},
   "source": [
    "# Question 3 (10 points)\n",
    "Now partition the original data into training and validation data (set the random seed to 12345), and run a discriminant analysis, AND a neural net. For each method, compare the training and validation results, and comment. "
   ]
  },
  {
   "cell_type": "code",
   "execution_count": 11,
   "metadata": {},
   "outputs": [
    {
     "name": "stdout",
     "output_type": "stream",
     "text": [
      "Confusion Matrix (Accuracy 0.9111)\n",
      "\n",
      "         Prediction\n",
      "Reference  0  1\n",
      "        0 33  1\n",
      "        1  3  8\n",
      "Confusion Matrix (Accuracy 0.8667)\n",
      "\n",
      "         Prediction\n",
      "Reference  0  1\n",
      "        0 24  2\n",
      "        1  2  2\n"
     ]
    },
    {
     "name": "stderr",
     "output_type": "stream",
     "text": [
      "C:\\Jenny\\DataScience\\anaconda3\\lib\\site-packages\\sklearn\\preprocessing\\label.py:151: DeprecationWarning: The truth value of an empty array is ambiguous. Returning False, but in future this will result in an error. Use `array.size > 0` to check that an array is not empty.\n",
      "  if diff:\n",
      "C:\\Jenny\\DataScience\\anaconda3\\lib\\site-packages\\sklearn\\preprocessing\\label.py:151: DeprecationWarning: The truth value of an empty array is ambiguous. Returning False, but in future this will result in an error. Use `array.size > 0` to check that an array is not empty.\n",
      "  if diff:\n",
      "C:\\Jenny\\DataScience\\anaconda3\\lib\\site-packages\\sklearn\\preprocessing\\label.py:151: DeprecationWarning: The truth value of an empty array is ambiguous. Returning False, but in future this will result in an error. Use `array.size > 0` to check that an array is not empty.\n",
      "  if diff:\n",
      "C:\\Jenny\\DataScience\\anaconda3\\lib\\site-packages\\sklearn\\preprocessing\\label.py:151: DeprecationWarning: The truth value of an empty array is ambiguous. Returning False, but in future this will result in an error. Use `array.size > 0` to check that an array is not empty.\n",
      "  if diff:\n"
     ]
    }
   ],
   "source": [
    "X_train, X_valid, y_train, y_valid = train_test_split(X, y, test_size=0.4, random_state=12345)\n",
    "da_clf = LinearDiscriminantAnalysis()\n",
    "da_clf.fit(X_train, y_train)\n",
    "train_predict = da_clf.predict(X_train)\n",
    "valid_predict = da_clf.predict(X_valid)\n",
    "printConfusionMatrix(labelOutput.inverse_transform(y_train), labelOutput.inverse_transform(train_predict))\n",
    "printConfusionMatrix(labelOutput.inverse_transform(y_valid), labelOutput.inverse_transform(valid_predict))"
   ]
  },
  {
   "cell_type": "code",
   "execution_count": 12,
   "metadata": {},
   "outputs": [
    {
     "name": "stdout",
     "output_type": "stream",
     "text": [
      "Confusion Matrix (Accuracy 0.9556)\n",
      "\n",
      "         Prediction\n",
      "Reference  0  1\n",
      "        0 33  1\n",
      "        1  1 10\n",
      "Confusion Matrix (Accuracy 0.8667)\n",
      "\n",
      "         Prediction\n",
      "Reference  0  1\n",
      "        0 23  3\n",
      "        1  1  3\n"
     ]
    },
    {
     "name": "stderr",
     "output_type": "stream",
     "text": [
      "C:\\Jenny\\DataScience\\anaconda3\\lib\\site-packages\\sklearn\\preprocessing\\label.py:151: DeprecationWarning: The truth value of an empty array is ambiguous. Returning False, but in future this will result in an error. Use `array.size > 0` to check that an array is not empty.\n",
      "  if diff:\n",
      "C:\\Jenny\\DataScience\\anaconda3\\lib\\site-packages\\sklearn\\preprocessing\\label.py:151: DeprecationWarning: The truth value of an empty array is ambiguous. Returning False, but in future this will result in an error. Use `array.size > 0` to check that an array is not empty.\n",
      "  if diff:\n",
      "C:\\Jenny\\DataScience\\anaconda3\\lib\\site-packages\\sklearn\\preprocessing\\label.py:151: DeprecationWarning: The truth value of an empty array is ambiguous. Returning False, but in future this will result in an error. Use `array.size > 0` to check that an array is not empty.\n",
      "  if diff:\n",
      "C:\\Jenny\\DataScience\\anaconda3\\lib\\site-packages\\sklearn\\preprocessing\\label.py:151: DeprecationWarning: The truth value of an empty array is ambiguous. Returning False, but in future this will result in an error. Use `array.size > 0` to check that an array is not empty.\n",
      "  if diff:\n"
     ]
    }
   ],
   "source": [
    "car_nnet = MLPClassifier(hidden_layer_sizes=(4,), activation='logistic', solver='lbfgs', random_state=1)\n",
    "car_nnet.fit(X_train, y_train)\n",
    "validPrediction = car_nnet.predict(X_valid)\n",
    "trainPrediction = car_nnet.predict(X_train)\n",
    "printConfusionMatrix(labelOutput.inverse_transform(y_train), labelOutput.inverse_transform(trainPrediction))\n",
    "printConfusionMatrix(labelOutput.inverse_transform(y_valid), labelOutput.inverse_transform(validPrediction))"
   ]
  },
  {
   "cell_type": "markdown",
   "metadata": {},
   "source": [
    "We can see use neural nets, the training accuracy increases a lot comparing to discriminant analysis, but the validation set accuracy doesn't change much."
   ]
  },
  {
   "cell_type": "code",
   "execution_count": null,
   "metadata": {},
   "outputs": [],
   "source": []
  }
 ],
 "metadata": {
  "kernelspec": {
   "display_name": "Python 3",
   "language": "python",
   "name": "python3"
  },
  "language_info": {
   "codemirror_mode": {
    "name": "ipython",
    "version": 3
   },
   "file_extension": ".py",
   "mimetype": "text/x-python",
   "name": "python",
   "nbconvert_exporter": "python",
   "pygments_lexer": "ipython3",
   "version": "3.6.5"
  }
 },
 "nbformat": 4,
 "nbformat_minor": 2
}
