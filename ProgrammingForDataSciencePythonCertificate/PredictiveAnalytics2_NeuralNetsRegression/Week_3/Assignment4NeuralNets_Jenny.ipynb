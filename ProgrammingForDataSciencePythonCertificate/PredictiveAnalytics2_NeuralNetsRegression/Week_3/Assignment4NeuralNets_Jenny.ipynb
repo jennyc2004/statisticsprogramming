{
 "cells": [
  {
   "cell_type": "code",
   "execution_count": 1,
   "metadata": {},
   "outputs": [],
   "source": [
    "%matplotlib inline\n",
    "\n",
    "from pathlib import Path\n",
    "\n",
    "import numpy as np\n",
    "import pandas as pd\n",
    "from sklearn.neural_network import MLPRegressor\n",
    "from sklearn.preprocessing import MinMaxScaler\n",
    "import matplotlib.pylab as plt\n",
    "from sklearn.model_selection import train_test_split\n",
    "\n",
    "from utilities import *\n",
    "\n",
    "DATA = Path('.').resolve().parent / 'data'"
   ]
  },
  {
   "cell_type": "markdown",
   "metadata": {},
   "source": [
    "Question 1 (10 points)\n",
    "Fit a neural network model to the data. Use the single hidden layer with 2 nodes. Use predictors Age_08_04, KM, Fuel_Type, HP, Automatic, Doors, Quarterly_Tax, Mfr_Guarantee, Guarantee_Period, Airco, Automatic_airco, CD_Player, Powered_Windows, Sport_Model, and Tow_Bar.  Remember to first scale the numerical predictor and outcome variables to a 0–1 scale and convert categorical predictors to dummies. Record the RMS error for the training data and the validation data."
   ]
  },
  {
   "cell_type": "code",
   "execution_count": 2,
   "metadata": {},
   "outputs": [
    {
     "data": {
      "text/html": [
       "<div>\n",
       "<style scoped>\n",
       "    .dataframe tbody tr th:only-of-type {\n",
       "        vertical-align: middle;\n",
       "    }\n",
       "\n",
       "    .dataframe tbody tr th {\n",
       "        vertical-align: top;\n",
       "    }\n",
       "\n",
       "    .dataframe thead th {\n",
       "        text-align: right;\n",
       "    }\n",
       "</style>\n",
       "<table border=\"1\" class=\"dataframe\">\n",
       "  <thead>\n",
       "    <tr style=\"text-align: right;\">\n",
       "      <th></th>\n",
       "      <th>Age_08_04</th>\n",
       "      <th>KM</th>\n",
       "      <th>HP</th>\n",
       "      <th>Automatic</th>\n",
       "      <th>Doors</th>\n",
       "      <th>Quarterly_Tax</th>\n",
       "      <th>Mfr_Guarantee</th>\n",
       "      <th>Guarantee_Period</th>\n",
       "      <th>Airco</th>\n",
       "      <th>Automatic_airco</th>\n",
       "      <th>CD_Player</th>\n",
       "      <th>Powered_Windows</th>\n",
       "      <th>Sport_Model</th>\n",
       "      <th>Tow_Bar</th>\n",
       "      <th>Fuel_Type_Diesel</th>\n",
       "      <th>Fuel_Type_Petrol</th>\n",
       "      <th>Price</th>\n",
       "    </tr>\n",
       "  </thead>\n",
       "  <tbody>\n",
       "    <tr>\n",
       "      <th>0</th>\n",
       "      <td>23</td>\n",
       "      <td>46986</td>\n",
       "      <td>90</td>\n",
       "      <td>0</td>\n",
       "      <td>3</td>\n",
       "      <td>210</td>\n",
       "      <td>0</td>\n",
       "      <td>3</td>\n",
       "      <td>0</td>\n",
       "      <td>0</td>\n",
       "      <td>0</td>\n",
       "      <td>1</td>\n",
       "      <td>0</td>\n",
       "      <td>0</td>\n",
       "      <td>1</td>\n",
       "      <td>0</td>\n",
       "      <td>13500</td>\n",
       "    </tr>\n",
       "    <tr>\n",
       "      <th>1</th>\n",
       "      <td>23</td>\n",
       "      <td>72937</td>\n",
       "      <td>90</td>\n",
       "      <td>0</td>\n",
       "      <td>3</td>\n",
       "      <td>210</td>\n",
       "      <td>0</td>\n",
       "      <td>3</td>\n",
       "      <td>1</td>\n",
       "      <td>0</td>\n",
       "      <td>1</td>\n",
       "      <td>0</td>\n",
       "      <td>0</td>\n",
       "      <td>0</td>\n",
       "      <td>1</td>\n",
       "      <td>0</td>\n",
       "      <td>13750</td>\n",
       "    </tr>\n",
       "    <tr>\n",
       "      <th>2</th>\n",
       "      <td>24</td>\n",
       "      <td>41711</td>\n",
       "      <td>90</td>\n",
       "      <td>0</td>\n",
       "      <td>3</td>\n",
       "      <td>210</td>\n",
       "      <td>1</td>\n",
       "      <td>3</td>\n",
       "      <td>0</td>\n",
       "      <td>0</td>\n",
       "      <td>0</td>\n",
       "      <td>0</td>\n",
       "      <td>0</td>\n",
       "      <td>0</td>\n",
       "      <td>1</td>\n",
       "      <td>0</td>\n",
       "      <td>13950</td>\n",
       "    </tr>\n",
       "    <tr>\n",
       "      <th>3</th>\n",
       "      <td>26</td>\n",
       "      <td>48000</td>\n",
       "      <td>90</td>\n",
       "      <td>0</td>\n",
       "      <td>3</td>\n",
       "      <td>210</td>\n",
       "      <td>1</td>\n",
       "      <td>3</td>\n",
       "      <td>0</td>\n",
       "      <td>0</td>\n",
       "      <td>0</td>\n",
       "      <td>0</td>\n",
       "      <td>0</td>\n",
       "      <td>0</td>\n",
       "      <td>1</td>\n",
       "      <td>0</td>\n",
       "      <td>14950</td>\n",
       "    </tr>\n",
       "    <tr>\n",
       "      <th>4</th>\n",
       "      <td>30</td>\n",
       "      <td>38500</td>\n",
       "      <td>90</td>\n",
       "      <td>0</td>\n",
       "      <td>3</td>\n",
       "      <td>210</td>\n",
       "      <td>1</td>\n",
       "      <td>3</td>\n",
       "      <td>1</td>\n",
       "      <td>0</td>\n",
       "      <td>0</td>\n",
       "      <td>1</td>\n",
       "      <td>0</td>\n",
       "      <td>0</td>\n",
       "      <td>1</td>\n",
       "      <td>0</td>\n",
       "      <td>13750</td>\n",
       "    </tr>\n",
       "  </tbody>\n",
       "</table>\n",
       "</div>"
      ],
      "text/plain": [
       "   Age_08_04     KM  HP  Automatic  Doors  Quarterly_Tax  Mfr_Guarantee  \\\n",
       "0         23  46986  90          0      3            210              0   \n",
       "1         23  72937  90          0      3            210              0   \n",
       "2         24  41711  90          0      3            210              1   \n",
       "3         26  48000  90          0      3            210              1   \n",
       "4         30  38500  90          0      3            210              1   \n",
       "\n",
       "   Guarantee_Period  Airco  Automatic_airco  CD_Player  Powered_Windows  \\\n",
       "0                 3      0                0          0                1   \n",
       "1                 3      1                0          1                0   \n",
       "2                 3      0                0          0                0   \n",
       "3                 3      0                0          0                0   \n",
       "4                 3      1                0          0                1   \n",
       "\n",
       "   Sport_Model  Tow_Bar  Fuel_Type_Diesel  Fuel_Type_Petrol  Price  \n",
       "0            0        0                 1                 0  13500  \n",
       "1            0        0                 1                 0  13750  \n",
       "2            0        0                 1                 0  13950  \n",
       "3            0        0                 1                 0  14950  \n",
       "4            0        0                 1                 0  13750  "
      ]
     },
     "execution_count": 2,
     "metadata": {},
     "output_type": "execute_result"
    }
   ],
   "source": [
    "car_df = pd.read_csv(DATA/'ToyotaCorolla.csv', encoding='utf-8')\n",
    "car_df = pd.get_dummies(car_df, columns=['Fuel_Type'], drop_first=True)\n",
    "car_df.columns\n",
    "car_df.drop(columns = ['Id', 'Model', 'Mfg_Month', 'Mfg_Year', 'Met_Color', 'Color', 'CC', \n",
    "                       'Cylinders', 'Gears',  'Weight', 'BOVAG_Guarantee', 'ABS', 'Airbag_1', 'Airbag_2', \n",
    "                       'Boardcomputer', 'Central_Lock',  'Power_Steering', 'Radio', 'Mistlamps',  'Backseat_Divider', \n",
    "                       'Metallic_Rim', 'Radio_cassette', 'Parking_Assistant'], inplace = True)\n",
    "columns = list(car_df.columns)\n",
    "columns.remove('Price')\n",
    "columns.append('Price')\n",
    "car_df = car_df[columns]\n",
    "car_df.head()"
   ]
  },
  {
   "cell_type": "code",
   "execution_count": 3,
   "metadata": {},
   "outputs": [],
   "source": [
    "scaleInput = MinMaxScaler(feature_range = (0,1))\n",
    "X = scaleInput.fit_transform(car_df.drop(columns=['Price']))\n",
    "scaleOutput = MinMaxScaler(feature_range = (0,1))\n",
    "y = scaleOutput.fit_transform(car_df.iloc[:,[-1]])\n",
    "X_train, X_valid, y_train, y_valid = train_test_split(X, y, test_size=0.4, random_state=42)"
   ]
  },
  {
   "cell_type": "code",
   "execution_count": 4,
   "metadata": {},
   "outputs": [],
   "source": [
    "car_nnet = MLPRegressor(hidden_layer_sizes=(2), activation='logistic', solver='lbfgs', random_state=1)\n",
    "car_nnet.fit(X_train, y_train.ravel())\n",
    "validPrediction = car_nnet.predict(np.array(X_valid))\n",
    "trainPrediction = car_nnet.predict(X_train)\n",
    "y_train_actual = scaleOutput.inverse_transform(y_train).ravel() \n",
    "y_train_pred = scaleOutput.inverse_transform([trainPrediction]).ravel()\n",
    "y_valid_actual = scaleOutput.inverse_transform(y_valid).ravel() \n",
    "y_valid_pred = scaleOutput.inverse_transform([validPrediction]).ravel()"
   ]
  },
  {
   "cell_type": "code",
   "execution_count": 5,
   "metadata": {},
   "outputs": [
    {
     "name": "stdout",
     "output_type": "stream",
     "text": [
      "\n",
      "Regression statistics\n",
      "\n",
      "                      Mean Error (ME) : -0.7023\n",
      "       Root Mean Squared Error (RMSE) : 1133.0424\n",
      "            Mean Absolute Error (MAE) : 846.2332\n",
      "          Mean Percentage Error (MPE) : -1.1733\n",
      "Mean Absolute Percentage Error (MAPE) : 8.4467\n"
     ]
    }
   ],
   "source": [
    "regressionSummary(y_train_actual, y_train_pred)"
   ]
  },
  {
   "cell_type": "code",
   "execution_count": 6,
   "metadata": {},
   "outputs": [
    {
     "name": "stdout",
     "output_type": "stream",
     "text": [
      "\n",
      "Regression statistics\n",
      "\n",
      "                      Mean Error (ME) : -76.4120\n",
      "       Root Mean Squared Error (RMSE) : 1110.5459\n",
      "            Mean Absolute Error (MAE) : 820.3399\n",
      "          Mean Percentage Error (MPE) : -1.8852\n",
      "Mean Absolute Percentage Error (MAPE) : 8.0887\n"
     ]
    }
   ],
   "source": [
    "regressionSummary(y_valid_actual, y_valid_pred)"
   ]
  },
  {
   "cell_type": "markdown",
   "metadata": {},
   "source": [
    "Question 2 (10 points)\n",
    "Repeat the process, changing the number of hidden layers and nodes to {single layer with 5 nodes}, {two layers, 5 nodes in each layer}.\n",
    "What happens to the RMS error for the training data as the number of layers and nodes increases?\n",
    "What happens to the RMS error for the validation data?\n",
    "Comment on the appropriate number of layers and nodes for this application"
   ]
  },
  {
   "cell_type": "code",
   "execution_count": 7,
   "metadata": {},
   "outputs": [],
   "source": [
    "car_nnet = MLPRegressor(hidden_layer_sizes=(5), activation='logistic', solver='lbfgs', random_state=1)\n",
    "car_nnet.fit(X_train, y_train.ravel())\n",
    "validPrediction = car_nnet.predict(np.array(X_valid))\n",
    "trainPrediction = car_nnet.predict(X_train)\n",
    "y_train_actual = scaleOutput.inverse_transform(y_train).ravel() \n",
    "y_train_pred = scaleOutput.inverse_transform([trainPrediction]).ravel()\n",
    "y_valid_actual = scaleOutput.inverse_transform(y_valid).ravel() \n",
    "y_valid_pred = scaleOutput.inverse_transform([validPrediction]).ravel()"
   ]
  },
  {
   "cell_type": "code",
   "execution_count": 8,
   "metadata": {},
   "outputs": [
    {
     "name": "stdout",
     "output_type": "stream",
     "text": [
      "\n",
      "Regression statistics\n",
      "\n",
      "                      Mean Error (ME) : 2.3728\n",
      "       Root Mean Squared Error (RMSE) : 1119.1412\n",
      "            Mean Absolute Error (MAE) : 844.9400\n",
      "          Mean Percentage Error (MPE) : -1.1184\n",
      "Mean Absolute Percentage Error (MAPE) : 8.4337\n"
     ]
    }
   ],
   "source": [
    "regressionSummary(y_train_actual, y_train_pred)"
   ]
  },
  {
   "cell_type": "code",
   "execution_count": 9,
   "metadata": {},
   "outputs": [
    {
     "name": "stdout",
     "output_type": "stream",
     "text": [
      "\n",
      "Regression statistics\n",
      "\n",
      "                      Mean Error (ME) : -69.6306\n",
      "       Root Mean Squared Error (RMSE) : 1120.0035\n",
      "            Mean Absolute Error (MAE) : 824.5876\n",
      "          Mean Percentage Error (MPE) : -1.8070\n",
      "Mean Absolute Percentage Error (MAPE) : 8.1049\n"
     ]
    }
   ],
   "source": [
    "regressionSummary(y_valid_actual, y_valid_pred)"
   ]
  },
  {
   "cell_type": "code",
   "execution_count": 10,
   "metadata": {},
   "outputs": [],
   "source": [
    "car_nnet = MLPRegressor(hidden_layer_sizes=(5,5,), activation='logistic', solver='lbfgs', random_state=1)\n",
    "car_nnet.fit(X_train, y_train.ravel())\n",
    "validPrediction = car_nnet.predict(np.array(X_valid))\n",
    "trainPrediction = car_nnet.predict(X_train)\n",
    "y_train_actual = scaleOutput.inverse_transform(y_train).ravel() \n",
    "y_train_pred = scaleOutput.inverse_transform([trainPrediction]).ravel()\n",
    "y_valid_actual = scaleOutput.inverse_transform(y_valid).ravel() \n",
    "y_valid_pred = scaleOutput.inverse_transform([validPrediction]).ravel()"
   ]
  },
  {
   "cell_type": "code",
   "execution_count": 11,
   "metadata": {},
   "outputs": [
    {
     "name": "stdout",
     "output_type": "stream",
     "text": [
      "\n",
      "Regression statistics\n",
      "\n",
      "                      Mean Error (ME) : -0.3361\n",
      "       Root Mean Squared Error (RMSE) : 1118.8443\n",
      "            Mean Absolute Error (MAE) : 831.2972\n",
      "          Mean Percentage Error (MPE) : -1.2113\n",
      "Mean Absolute Percentage Error (MAPE) : 8.2754\n"
     ]
    }
   ],
   "source": [
    "regressionSummary(y_train_actual, y_train_pred)"
   ]
  },
  {
   "cell_type": "code",
   "execution_count": 12,
   "metadata": {},
   "outputs": [
    {
     "name": "stdout",
     "output_type": "stream",
     "text": [
      "\n",
      "Regression statistics\n",
      "\n",
      "                      Mean Error (ME) : -81.3772\n",
      "       Root Mean Squared Error (RMSE) : 1095.3985\n",
      "            Mean Absolute Error (MAE) : 821.1226\n",
      "          Mean Percentage Error (MPE) : -1.8895\n",
      "Mean Absolute Percentage Error (MAPE) : 8.1330\n"
     ]
    }
   ],
   "source": [
    "regressionSummary(y_valid_actual, y_valid_pred)"
   ]
  },
  {
   "cell_type": "markdown",
   "metadata": {},
   "source": [
    "The RMS error for the training data decreases as the number of layers and nodes increases.\n",
    "the RMS error for the validation data increases when the nodes change from 2 to 5 and not much change if increase layers to 2.\n",
    "So Single layer is good for this dataset, also there is no much use to increase nodes number."
   ]
  }
 ],
 "metadata": {
  "kernelspec": {
   "display_name": "Python 3",
   "language": "python",
   "name": "python3"
  },
  "language_info": {
   "codemirror_mode": {
    "name": "ipython",
    "version": 3
   },
   "file_extension": ".py",
   "mimetype": "text/x-python",
   "name": "python",
   "nbconvert_exporter": "python",
   "pygments_lexer": "ipython3",
   "version": "3.6.5"
  }
 },
 "nbformat": 4,
 "nbformat_minor": 2
}
