{
 "cells": [
  {
   "cell_type": "markdown",
   "metadata": {},
   "source": [
    "# Week 1 Homework: Introduction to Python\n",
    "\n",
    "Create a new IPython Notebook (or copy this one), and use it to answer the following assignments. If you'd prefer not to use IPython, use another interpreter and answer the same questions."
   ]
  },
  {
   "cell_type": "markdown",
   "metadata": {},
   "source": [
    "## Question 1\n",
    "\n",
    "Create a Python list with the following values:\n",
    "[1, 2, 4, 10, 12, 117, 1244]\n",
    "\n",
    "a. Compute the sum of the values.\n",
    "\n",
    "b. Compute the mean of the values.\n",
    "\n",
    "c. Compute the product of all the numbers (multiply them all together)."
   ]
  },
  {
   "cell_type": "code",
   "execution_count": 4,
   "metadata": {},
   "outputs": [
    {
     "name": "stdout",
     "output_type": "stream",
     "text": [
      "sum of the values =  1390\n",
      "mean of the values =  198.57142857142858\n",
      "product of the values =  139726080\n"
     ]
    }
   ],
   "source": [
    "myList = [1, 2, 4, 10, 12, 117, 1244]\n",
    "sum_myList = 0\n",
    "product_myList = 1\n",
    "for a in myList:\n",
    "    sum_myList += a\n",
    "    product_myList *= a\n",
    "print(\"sum of the values = \", sum_myList) #sum of the values\n",
    "mean_myList = sum_myList/len(myList)\n",
    "print(\"mean of the values = \", mean_myList) #mean of the values\n",
    "print(\"product of the values = \", product_myList) #product of the values\n"
   ]
  },
  {
   "cell_type": "markdown",
   "metadata": {},
   "source": [
    "## Question 2\n",
    "\n",
    "Write functions to do all the operations above; repeat them on the following lists of numbers:\n",
    "\n",
    "a. [3, 2, 3, 3, 3, 2, 8, 2, 2, 126]\n",
    "\n",
    "b. [7, 267, 4, 2, 5, 319, 5, 6, 713, 3]"
   ]
  },
  {
   "cell_type": "code",
   "execution_count": 8,
   "metadata": {},
   "outputs": [
    {
     "name": "stdout",
     "output_type": "stream",
     "text": [
      "sum of List a =  154\n",
      "mean of List a =  15.4\n",
      "product of List a =  1306368\n",
      "sum of List b =  1331\n",
      "mean of List b =  133.1\n",
      "product of List b =  1530354394800\n"
     ]
    }
   ],
   "source": [
    "def getSum(myList):\n",
    "    result = 0\n",
    "    for a in myList:\n",
    "        result += a\n",
    "    return result\n",
    "def getMean(myList):\n",
    "    return getSum(myList)/len(myList)\n",
    "def getProduct(myList):\n",
    "    result = 1\n",
    "    for a in myList:\n",
    "        result *= a\n",
    "    return result\n",
    "a = [3, 2, 3, 3, 3, 2, 8, 2, 2, 126]\n",
    "b = [7, 267, 4, 2, 5, 319, 5, 6, 713, 3]\n",
    "print(\"sum of List a = \",getSum(a))\n",
    "print(\"mean of List a = \",getMean(a))\n",
    "print(\"product of List a = \",getProduct(a))\n",
    "print(\"sum of List b = \",getSum(b))\n",
    "print(\"mean of List b = \",getMean(b))\n",
    "print(\"product of List b = \",getProduct(b))"
   ]
  },
  {
   "cell_type": "markdown",
   "metadata": {},
   "source": [
    "## Question 3\n",
    "\n",
    "FizzBuzz is a classic programming exercise. Iterate over the numbers from 0 to 99 and for each number:\n",
    "\n",
    "* If the number is divisible by 3, print Fizz\n",
    "\n",
    "* If the number is divisible by 5, print Buzz\n",
    "\n",
    "* If the number is divisible by both 3 and 5, print Fizz Buzz\n",
    "\n",
    "* Otherwise, just print the number.\n",
    "\n",
    "**Hint:** The modulo operator which gives you a division remainder is the percentage sign, %. For example:"
   ]
  },
  {
   "cell_type": "code",
   "execution_count": 1,
   "metadata": {},
   "outputs": [
    {
     "data": {
      "text/plain": [
       "0"
      ]
     },
     "execution_count": 1,
     "metadata": {},
     "output_type": "execute_result"
    }
   ],
   "source": [
    "4 % 2"
   ]
  },
  {
   "cell_type": "code",
   "execution_count": 2,
   "metadata": {},
   "outputs": [
    {
     "data": {
      "text/plain": [
       "1"
      ]
     },
     "execution_count": 2,
     "metadata": {},
     "output_type": "execute_result"
    }
   ],
   "source": [
    "5 % 2"
   ]
  },
  {
   "cell_type": "code",
   "execution_count": 11,
   "metadata": {
    "scrolled": false
   },
   "outputs": [
    {
     "name": "stdout",
     "output_type": "stream",
     "text": [
      "Fizz Buzz\n",
      "1\n",
      "2\n",
      "Fizz\n",
      "4\n",
      "Buzz\n",
      "Fizz\n",
      "7\n",
      "8\n",
      "Fizz\n",
      "Buzz\n",
      "11\n",
      "Fizz\n",
      "13\n",
      "14\n",
      "Fizz Buzz\n",
      "16\n",
      "17\n",
      "Fizz\n",
      "19\n",
      "Buzz\n",
      "Fizz\n",
      "22\n",
      "23\n",
      "Fizz\n",
      "Buzz\n",
      "26\n",
      "Fizz\n",
      "28\n",
      "29\n",
      "Fizz Buzz\n",
      "31\n",
      "32\n",
      "Fizz\n",
      "34\n",
      "Buzz\n",
      "Fizz\n",
      "37\n",
      "38\n",
      "Fizz\n",
      "Buzz\n",
      "41\n",
      "Fizz\n",
      "43\n",
      "44\n",
      "Fizz Buzz\n",
      "46\n",
      "47\n",
      "Fizz\n",
      "49\n",
      "Buzz\n",
      "Fizz\n",
      "52\n",
      "53\n",
      "Fizz\n",
      "Buzz\n",
      "56\n",
      "Fizz\n",
      "58\n",
      "59\n",
      "Fizz Buzz\n",
      "61\n",
      "62\n",
      "Fizz\n",
      "64\n",
      "Buzz\n",
      "Fizz\n",
      "67\n",
      "68\n",
      "Fizz\n",
      "Buzz\n",
      "71\n",
      "Fizz\n",
      "73\n",
      "74\n",
      "Fizz Buzz\n",
      "76\n",
      "77\n",
      "Fizz\n",
      "79\n",
      "Buzz\n",
      "Fizz\n",
      "82\n",
      "83\n",
      "Fizz\n",
      "Buzz\n",
      "86\n",
      "Fizz\n",
      "88\n",
      "89\n",
      "Fizz Buzz\n",
      "91\n",
      "92\n",
      "Fizz\n",
      "94\n",
      "Buzz\n",
      "Fizz\n",
      "97\n",
      "98\n",
      "Fizz\n"
     ]
    }
   ],
   "source": [
    "for a in range(100):\n",
    "    if a % 3 == 0 and a % 5 == 0:\n",
    "        print(\"Fizz Buzz\")\n",
    "    elif a % 3 == 0:\n",
    "        print(\"Fizz\")\n",
    "    elif a % 5 == 0:\n",
    "        print(\"Buzz\")\n",
    "    else:\n",
    "        print(a)\n",
    "    "
   ]
  }
 ],
 "metadata": {
  "kernelspec": {
   "display_name": "Python 3",
   "language": "python",
   "name": "python3"
  },
  "language_info": {
   "codemirror_mode": {
    "name": "ipython",
    "version": 3
   },
   "file_extension": ".py",
   "mimetype": "text/x-python",
   "name": "python",
   "nbconvert_exporter": "python",
   "pygments_lexer": "ipython3",
   "version": "3.6.5"
  }
 },
 "nbformat": 4,
 "nbformat_minor": 1
}
