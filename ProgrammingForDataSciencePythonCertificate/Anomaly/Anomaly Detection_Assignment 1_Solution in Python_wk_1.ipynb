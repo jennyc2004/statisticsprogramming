{
 "cells": [
  {
   "cell_type": "markdown",
   "metadata": {},
   "source": [
    "## Anomaly Detection\n",
    "## Assignment 1 Model Answers"
   ]
  },
  {
   "cell_type": "code",
   "execution_count": 1,
   "metadata": {
    "collapsed": true
   },
   "outputs": [],
   "source": [
    "#Q1: Finding outliers from each of the lists graphically:\n",
    "#Using scatterplot for each of the list we can find the outliers in respective lists.\n",
    "\n",
    "import numpy as np\n",
    "import matplotlib.pyplot as plt"
   ]
  },
  {
   "cell_type": "code",
   "execution_count": 2,
   "metadata": {
    "collapsed": true
   },
   "outputs": [],
   "source": [
    "import matplotlib.pyplot\n",
    "import pylab\n",
    "\n",
    "def graph(x,y):\n",
    "    matplotlib.pyplot.scatter(x,y)\n",
    "    matplotlib.pyplot.show()"
   ]
  },
  {
   "cell_type": "code",
   "execution_count": 3,
   "metadata": {
    "collapsed": false
   },
   "outputs": [],
   "source": [
    "#Part a: The data:\n",
    "sr = [1, 2, 3, 4, 5, 6, 7, 8, 9, 10, 11, 12, 13, 14, 15, 16]\n",
    "x = [1, 3, 2, 1, 3, 2, 75, 1, 3, 2, 2, 1, 2, 3, 2, 1]\n",
    "graph(sr,x)"
   ]
  },
  {
   "cell_type": "markdown",
   "metadata": {},
   "source": [
    "## Here from the scatterplot it is clear that the 7th point (75) is the outlier."
   ]
  },
  {
   "cell_type": "code",
   "execution_count": 4,
   "metadata": {
    "collapsed": false
   },
   "outputs": [],
   "source": [
    "#Q1: b: The data\n",
    "sr = [1, 2, 3, 4, 5, 6, 7, 8, 9, 10]\n",
    "x = [1, 2, 3, 4, 2, 19, 9, 21, 20, 22]\n",
    "graph(sr,x)"
   ]
  },
  {
   "cell_type": "markdown",
   "metadata": {},
   "source": [
    "## It is not clear that which point can be considered as an outlier. It seems that there are two different groups of sizes 5 and 4 and the 7th point (9) is the outlier."
   ]
  },
  {
   "cell_type": "code",
   "execution_count": 5,
   "metadata": {
    "collapsed": false
   },
   "outputs": [],
   "source": [
    "#Q1: c: The data\n",
    "x = [1, 2, 3, 10, 10, 9, 10]\n",
    "y = [9, 9, 9, 10, 3, 1, 2]\n",
    "graph(x,y)"
   ]
  },
  {
   "cell_type": "markdown",
   "metadata": {},
   "source": [
    "## From this plot it seems that the 4th point (10, 10) is an outlier."
   ]
  },
  {
   "cell_type": "code",
   "execution_count": 6,
   "metadata": {
    "collapsed": false
   },
   "outputs": [],
   "source": [
    "#Q2: Calculating Z-scores for each of the above lists:\n",
    "\n",
    "from numpy import *\n",
    "def zscore(a):\n",
    "    z = (a - mean(a)) / std(a)\n",
    "    print \"Z-score values are:\\n\", \"Z =\", abs(z)\n",
    "    for i in range(len(x)):\n",
    "        if z[i]>= 3:\n",
    "            print \"The outlier is:\", (x[i])"
   ]
  },
  {
   "cell_type": "code",
   "execution_count": 7,
   "metadata": {
    "collapsed": false
   },
   "outputs": [
    {
     "name": "stdout",
     "output_type": "stream",
     "text": [
      "Z-score values are:\n",
      "Z = [ 0.31069232  0.19771329  0.25420281  0.31069232  0.19771329  0.25420281\n",
      "  3.8695316   0.31069232  0.19771329  0.25420281  0.25420281  0.31069232\n",
      "  0.25420281  0.19771329  0.25420281  0.31069232]\n",
      "The outlier is: 75\n"
     ]
    }
   ],
   "source": [
    "#Q2: Part a:\n",
    "x = [1, 3, 2, 1, 3, 2, 75, 1, 3, 2, 2, 1, 2, 3, 2, 1]\n",
    "zscore(x)"
   ]
  },
  {
   "cell_type": "code",
   "execution_count": 8,
   "metadata": {
    "collapsed": false
   },
   "outputs": [
    {
     "name": "stdout",
     "output_type": "stream",
     "text": [
      "Z-score values are:\n",
      "Z = [ 1.08103     0.96479022  0.84855043  0.73231065  0.96479022  1.01128613\n",
      "  0.15111172  1.2437657   1.12752591  1.36000548]\n"
     ]
    }
   ],
   "source": [
    "#Q2: Part b:\n",
    "x = [1, 2, 3, 4, 2, 19, 9, 21, 20, 22]\n",
    "zscore(x)"
   ]
  },
  {
   "cell_type": "code",
   "execution_count": 9,
   "metadata": {
    "collapsed": false
   },
   "outputs": [
    {
     "name": "stdout",
     "output_type": "stream",
     "text": [
      "Z-score values are:\n",
      "Z = [ 1.39690778  1.13958266  0.88225755  0.91901828  0.91901828  0.66169316\n",
      "  0.91901828]\n",
      "\n",
      "\n",
      "Z-score values are:\n",
      "Z = [ 0.78446454  0.78446454  0.78446454  1.05902713  0.86291099  1.41203617\n",
      "  1.13747358]\n"
     ]
    }
   ],
   "source": [
    "#Q2: Part c:\n",
    "x = [1, 2, 3, 10, 10, 9, 10]\n",
    "y = [9, 9, 9, 10, 3, 1, 2]\n",
    "zscore(x)\n",
    "print(\"\\n\")\n",
    "zscore(y)"
   ]
  },
  {
   "cell_type": "code",
   "execution_count": 10,
   "metadata": {
    "collapsed": false
   },
   "outputs": [
    {
     "data": {
      "text/plain": [
       "500"
      ]
     },
     "execution_count": 10,
     "metadata": {},
     "output_type": "execute_result"
    }
   ],
   "source": [
    "#Q3:\n",
    "precision = 25\n",
    "recall = 50\n",
    "positive = 1000\n",
    "negative = 10000\n",
    "\n",
    "#TP = ? FP = ?\n",
    "# recall = 100 * abs(S(t)*G))/abs(S(t))\n",
    "# So abs(S(t)*G))/abs(S(t)) = recall / 100 = 50/100 = 0.5\n",
    "# Which is :\n",
    "# 0.5 = TP/positive\n",
    "TP = positive * recall/100\n",
    "TP"
   ]
  },
  {
   "cell_type": "code",
   "execution_count": 11,
   "metadata": {
    "collapsed": false
   },
   "outputs": [
    {
     "data": {
      "text/plain": [
       "1500.0"
      ]
     },
     "execution_count": 11,
     "metadata": {},
     "output_type": "execute_result"
    }
   ],
   "source": [
    "# precision = 100 * abs(S(t)*G))/abs(S(t))\n",
    "# So abs(S(t)*G))/abs(S(t)) = precision / 100 = 25/100 = 0.25\n",
    "# Which is:\n",
    "FP = TP/(float(precision)/100)-TP\n",
    "FP"
   ]
  }
 ],
 "metadata": {
  "kernelspec": {
   "display_name": "Python 2",
   "language": "python",
   "name": "python2"
  },
  "language_info": {
   "codemirror_mode": {
    "name": "ipython",
    "version": 2
   },
   "file_extension": ".py",
   "mimetype": "text/x-python",
   "name": "python",
   "nbconvert_exporter": "python",
   "pygments_lexer": "ipython2",
   "version": "2.7.10"
  }
 },
 "nbformat": 4,
 "nbformat_minor": 0
}
