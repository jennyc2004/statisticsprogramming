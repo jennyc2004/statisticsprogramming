{
 "cells": [
  {
   "cell_type": "markdown",
   "metadata": {},
   "source": [
    "# Model answers_Assignment 3_Anomaly Detection\n",
    "# Q2"
   ]
  },
  {
   "cell_type": "code",
   "execution_count": 1,
   "metadata": {
    "collapsed": true
   },
   "outputs": [],
   "source": [
    "import numpy as  np\n",
    "d = 100\n",
    "n = 1000\n",
    "U = np.random.random((n, d)) * 1 "
   ]
  },
  {
   "cell_type": "code",
   "execution_count": 2,
   "metadata": {
    "collapsed": false
   },
   "outputs": [
    {
     "data": {
      "text/plain": [
       "array([  4.47137466e-01,   5.59858214e-01,   2.06144686e-01,\n",
       "         6.37859304e-01,   7.42828214e-01,   4.86766678e-01,\n",
       "         4.87037489e-01,   8.51004377e-01,   6.60105817e-01,\n",
       "         6.58072456e-01,   5.49458533e-01,   6.50307173e-01,\n",
       "         9.14671912e-01,   1.46783604e-01,   7.15027807e-01,\n",
       "         1.44813856e-02,   5.87258915e-01,   7.83840850e-02,\n",
       "         1.23442814e-01,   7.90662322e-01,   1.99852279e-01,\n",
       "         7.38885757e-01,   7.29303580e-01,   1.57062773e-01,\n",
       "         3.79440172e-01,   8.00732500e-01,   4.72028282e-01,\n",
       "         7.32489404e-01,   2.47942880e-01,   2.90695945e-01,\n",
       "         5.82034064e-01,   5.40813832e-01,   9.63145775e-01,\n",
       "         1.10582235e-01,   9.17099078e-01,   8.36364619e-01,\n",
       "         5.69407512e-01,   1.70770851e-01,   1.96380168e-01,\n",
       "         5.32556180e-01,   1.69125125e-01,   7.60283069e-01,\n",
       "         9.68230264e-01,   6.94930582e-01,   2.40386725e-01,\n",
       "         6.39792787e-01,   7.15525762e-01,   8.46404374e-01,\n",
       "         6.98763956e-01,   5.64268814e-02,   9.61011297e-01,\n",
       "         3.66997013e-01,   4.23521508e-01,   9.79306863e-01,\n",
       "         8.29791375e-01,   3.32483048e-01,   1.01825364e-02,\n",
       "         6.31420580e-01,   7.22280204e-01,   9.37485696e-01,\n",
       "         8.49532786e-01,   1.21203375e-02,   4.15482836e-01,\n",
       "         1.14102267e-01,   1.14056930e-01,   4.47193665e-02,\n",
       "         3.36492883e-01,   9.76438894e-04,   4.10589263e-01,\n",
       "         1.31601183e-01,   6.16789200e-02,   1.74977168e-01,\n",
       "         8.96399223e-01,   5.68399292e-01,   5.92958000e-01,\n",
       "         8.85016494e-01,   2.38190737e-01,   3.85814283e-01,\n",
       "         4.07028015e-01,   3.49706988e-01,   3.11860974e-01,\n",
       "         8.85643702e-01,   4.09411836e-01,   5.34181447e-01,\n",
       "         9.76241661e-01,   6.42804589e-01,   2.44937994e-01,\n",
       "         4.44387622e-01,   2.89178360e-01,   3.66879510e-03,\n",
       "         2.18911880e-01,   4.54273387e-01,   3.59244231e-02,\n",
       "         1.87774501e-01,   9.84653068e-01,   6.84280218e-01,\n",
       "         8.29644213e-01,   9.80768322e-01,   1.59141657e-02,\n",
       "         8.65509467e-01])"
      ]
     },
     "execution_count": 2,
     "metadata": {},
     "output_type": "execute_result"
    }
   ],
   "source": [
    "U[0]"
   ]
  },
  {
   "cell_type": "code",
   "execution_count": 3,
   "metadata": {
    "collapsed": true
   },
   "outputs": [],
   "source": [
    "from sklearn.decomposition import PCA\n",
    "from sklearn.preprocessing import scale"
   ]
  },
  {
   "cell_type": "code",
   "execution_count": 4,
   "metadata": {
    "collapsed": true
   },
   "outputs": [],
   "source": [
    "#Scaling the random numbers\n",
    "X = scale(U)\n",
    "pca = PCA(n_components=100)"
   ]
  },
  {
   "cell_type": "code",
   "execution_count": 5,
   "metadata": {
    "collapsed": false
   },
   "outputs": [
    {
     "name": "stdout",
     "output_type": "stream",
     "text": [
      "[ 0.01701696  0.01620527  0.01600158  0.01576016  0.01566366  0.01540003\n",
      "  0.01520882  0.01488618  0.01469629  0.01445123  0.01441967  0.01417378\n",
      "  0.01398375  0.01382579  0.01366476  0.01360953  0.01341272  0.01336548\n",
      "  0.0132393   0.01318723  0.01302214  0.01284637  0.01279677  0.01261632\n",
      "  0.01252781  0.01229622  0.01222334  0.0120894   0.01195041  0.01179455\n",
      "  0.01176928  0.0116702   0.01151219  0.01134835  0.01131145  0.01109975\n",
      "  0.01099037  0.01092851  0.01084096  0.01074641  0.0106666   0.01060177\n",
      "  0.01053224  0.01029625  0.01025014  0.01021921  0.01003516  0.00997836\n",
      "  0.00977068  0.00973901  0.00957868  0.00948325  0.00945135  0.00936438\n",
      "  0.00921607  0.00915549  0.00903223  0.00895763  0.008928    0.00881316\n",
      "  0.00871434  0.00855806  0.0085248   0.00844384  0.00834711  0.00821101\n",
      "  0.00815299  0.00806307  0.00790517  0.00788286  0.00781839  0.00771512\n",
      "  0.00763316  0.00760562  0.00750506  0.00741918  0.0072834   0.00715421\n",
      "  0.00708261  0.00701326  0.00695768  0.00684612  0.00677725  0.00675154\n",
      "  0.00661554  0.00660597  0.00638662  0.00628341  0.00624     0.00604648\n",
      "  0.00596481  0.00585145  0.00582282  0.00567978  0.00559727  0.00548563\n",
      "  0.00541976  0.0051854   0.00508494  0.00474158]\n"
     ]
    }
   ],
   "source": [
    "pca.fit(X)\n",
    "#The amount of variance that each PC explains\n",
    "var= pca.explained_variance_ratio_\n",
    "print var"
   ]
  },
  {
   "cell_type": "code",
   "execution_count": 6,
   "metadata": {
    "collapsed": false
   },
   "outputs": [
    {
     "data": {
      "text/plain": [
       "array([   1.7 ,    3.32,    4.92,    6.5 ,    8.07,    9.61,   11.13,\n",
       "         12.62,   14.09,   15.54,   16.98,   18.4 ,   19.8 ,   21.18,\n",
       "         22.55,   23.91,   25.25,   26.59,   27.91,   29.23,   30.53,\n",
       "         31.81,   33.09,   34.35,   35.6 ,   36.83,   38.05,   39.26,\n",
       "         40.46,   41.64,   42.82,   43.99,   45.14,   46.27,   47.4 ,\n",
       "         48.51,   49.61,   50.7 ,   51.78,   52.85,   53.92,   54.98,\n",
       "         56.03,   57.06,   58.09,   59.11,   60.11,   61.11,   62.09,\n",
       "         63.06,   64.02,   64.97,   65.92,   66.86,   67.78,   68.7 ,\n",
       "         69.6 ,   70.5 ,   71.39,   72.27,   73.14,   74.  ,   74.85,\n",
       "         75.69,   76.52,   77.34,   78.16,   78.97,   79.76,   80.55,\n",
       "         81.33,   82.1 ,   82.86,   83.62,   84.37,   85.11,   85.84,\n",
       "         86.56,   87.27,   87.97,   88.67,   89.35,   90.03,   90.71,\n",
       "         91.37,   92.03,   92.67,   93.3 ,   93.92,   94.52,   95.12,\n",
       "         95.71,   96.29,   96.86,   97.42,   97.97,   98.51,   99.03,\n",
       "         99.54,  100.01])"
      ]
     },
     "execution_count": 6,
     "metadata": {},
     "output_type": "execute_result"
    }
   ],
   "source": [
    "#Cumulative Variance explains\n",
    "cum_var_percent=np.cumsum(np.round(pca.explained_variance_ratio_, decimals=4)*100)\n",
    "cum_var_percent"
   ]
  },
  {
   "cell_type": "code",
   "execution_count": 7,
   "metadata": {
    "collapsed": false
   },
   "outputs": [],
   "source": [
    "def dimensions(percent):\n",
    "    for i in range(0, d):\n",
    "        if cum_var_percent[i] > percent:\n",
    "            return i\n",
    "            break"
   ]
  },
  {
   "cell_type": "code",
   "execution_count": 8,
   "metadata": {
    "collapsed": false
   },
   "outputs": [
    {
     "name": "stdout",
     "output_type": "stream",
     "text": [
      "69\n"
     ]
    }
   ],
   "source": [
    "#the dimensionality of the subspace required to represent \n",
    "#(i) 80% of the variance: \n",
    "print dimensions(80.00)"
   ]
  },
  {
   "cell_type": "code",
   "execution_count": 9,
   "metadata": {
    "collapsed": false
   },
   "outputs": [
    {
     "name": "stdout",
     "output_type": "stream",
     "text": [
      "90\n"
     ]
    }
   ],
   "source": [
    "#(ii) 95% of the variance:\n",
    "print dimensions(95.00)"
   ]
  },
  {
   "cell_type": "code",
   "execution_count": 10,
   "metadata": {
    "collapsed": false
   },
   "outputs": [
    {
     "name": "stdout",
     "output_type": "stream",
     "text": [
      "97\n"
     ]
    }
   ],
   "source": [
    "#(iii) 99% of the variance:\n",
    "print dimensions(99.00)"
   ]
  }
 ],
 "metadata": {
  "kernelspec": {
   "display_name": "Python 2",
   "language": "python",
   "name": "python2"
  },
  "language_info": {
   "codemirror_mode": {
    "name": "ipython",
    "version": 2
   },
   "file_extension": ".py",
   "mimetype": "text/x-python",
   "name": "python",
   "nbconvert_exporter": "python",
   "pygments_lexer": "ipython2",
   "version": "2.7.10"
  }
 },
 "nbformat": 4,
 "nbformat_minor": 0
}
