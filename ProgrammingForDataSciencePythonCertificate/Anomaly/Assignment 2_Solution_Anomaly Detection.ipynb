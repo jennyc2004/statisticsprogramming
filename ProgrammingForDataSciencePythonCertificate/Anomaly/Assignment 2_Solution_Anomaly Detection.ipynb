{
 "cells": [
  {
   "cell_type": "markdown",
   "metadata": {
    "collapsed": true
   },
   "source": [
    "## Model answers_Assignment 2"
   ]
  },
  {
   "cell_type": "markdown",
   "metadata": {},
   "source": [
    "#Q1:"
   ]
  },
  {
   "cell_type": "code",
   "execution_count": 1,
   "metadata": {
    "collapsed": false,
    "scrolled": true
   },
   "outputs": [
    {
     "name": "stdout",
     "output_type": "stream",
     "text": [
      "best fit line:\n",
      "y = 1.2090 + -0.0070x\n"
     ]
    }
   ],
   "source": [
    "def best_fit(x, y):\n",
    "\n",
    "    xbar = sum(x)/len(x)\n",
    "    ybar = sum(y)/len(y)\n",
    "    n = len(x) # or len(y)\n",
    "\n",
    "    numer = sum([xi*yi for xi,yi in zip(x, y)]) - n * xbar * ybar\n",
    "    denum = sum([xi**2 for xi in x]) - n * xbar**2\n",
    "\n",
    "    b = numer / denum\n",
    "    a = ybar - b * xbar\n",
    "\n",
    "    print('best fit line:\\ny = {:.4f} + {:.4f}x'.format(a, b))\n",
    "\n",
    "    return a, b\n",
    "\n",
    "x = [1, 2, 3, 4, 5]\n",
    "y = [1, 0.99, 2, 0.98, 0.97]\n",
    "\n",
    "# solution\n",
    "a, b = best_fit(x, y)\n",
    "#best fit line:\n",
    "#y = 1.21 + -0.01x"
   ]
  },
  {
   "cell_type": "code",
   "execution_count": 2,
   "metadata": {
    "collapsed": false
   },
   "outputs": [],
   "source": [
    "# plot points and fit line of Y as dependent variable\n",
    "\n",
    "import matplotlib.pyplot as plt\n",
    "import pylab\n",
    "\n",
    "plt.scatter(x, y)\n",
    "yfit = [a + b * xi for xi in x]\n",
    "plt.plot(x, yfit)\n",
    "plt.show()"
   ]
  },
  {
   "cell_type": "code",
   "execution_count": 3,
   "metadata": {
    "collapsed": false
   },
   "outputs": [
    {
     "name": "stdout",
     "output_type": "stream",
     "text": [
      "best fit line:\n",
      "x = 3.1008 + -0.0849y\n"
     ]
    }
   ],
   "source": [
    "def best_fit1(y, x):\n",
    "\n",
    "    ybar = sum(y)/len(y)\n",
    "    xbar = sum(x)/len(x)\n",
    "    n = len(y) # or len(x)\n",
    "\n",
    "    numer = sum([yi*xi for yi,xi in zip(y, x)]) - n * ybar * xbar\n",
    "    denum = sum([yi**2 for yi in y]) - n * ybar**2\n",
    "\n",
    "    b = numer / denum\n",
    "    a = xbar - b * ybar\n",
    "\n",
    "    print('best fit line:\\nx = {:.4f} + {:.4f}y'.format(a, b))\n",
    "\n",
    "    return a, b\n",
    "\n",
    "c, d = best_fit1(y, x)"
   ]
  },
  {
   "cell_type": "code",
   "execution_count": 4,
   "metadata": {
    "collapsed": false
   },
   "outputs": [],
   "source": [
    "# plot points and fit line of Y as independent variable\n",
    "\n",
    "plt.scatter(y, x)\n",
    "xfit = [c + d * yi for yi in y]\n",
    "plt.plot(y, xfit)\n",
    "plt.show()"
   ]
  },
  {
   "cell_type": "code",
   "execution_count": 5,
   "metadata": {
    "collapsed": false
   },
   "outputs": [
    {
     "name": "stdout",
     "output_type": "stream",
     "text": [
      "Gradient and intercept -0.007 1.209\n",
      "R-squared 0.000594169859824\n",
      "p-value 0.968967096273\n"
     ]
    }
   ],
   "source": [
    "from scipy import stats\n",
    "\n",
    "gradient, intercept, r_value, p_value, std_err = stats.linregress(x,y)\n",
    "print \"Gradient and intercept\", gradient, intercept\n",
    "#Gradient and intercept -0.007 1.209\n",
    "print \"R-squared\", r_value**2\n",
    "#R-squared 0.000594169859824\n",
    "print \"p-value\", p_value\n",
    "#p-value 0.968967096273"
   ]
  },
  {
   "cell_type": "code",
   "execution_count": 6,
   "metadata": {
    "collapsed": false
   },
   "outputs": [
    {
     "name": "stdout",
     "output_type": "stream",
     "text": [
      "Gradient and intercept -0.0848814085463 3.10083911335\n",
      "R-squared 0.000594169859824\n",
      "p-value 0.968967096273\n"
     ]
    }
   ],
   "source": [
    "gradient, intercept, r_value, p_value, std_err = stats.linregress(y,x)\n",
    "print \"Gradient and intercept\", gradient, intercept\n",
    "#Gradient and intercept -0.0848814085463 3.10083911335\n",
    "print \"R-squared\", r_value**2\n",
    "#R-squared 0.000594169859824\n",
    "print \"p-value\", p_value\n",
    "#p-value 0.968967096273"
   ]
  },
  {
   "cell_type": "code",
   "execution_count": 7,
   "metadata": {
    "collapsed": false
   },
   "outputs": [
    {
     "name": "stdout",
     "output_type": "stream",
     "text": [
      "best fit line:\n",
      "y = 1.0060 + -0.0070x\n"
     ]
    }
   ],
   "source": [
    "# Remove the third point (3, 2)\n",
    "x1 = [1, 2, 4, 5]\n",
    "y1 = [1, 0.99, 0.98, 0.97]\n",
    "\n",
    "# solution\n",
    "a, b = best_fit(x1, y1)\n",
    "\n",
    "#best fit line:\n",
    "#y1 = 1.0060 + -0.0070x1"
   ]
  },
  {
   "cell_type": "code",
   "execution_count": 8,
   "metadata": {
    "collapsed": false
   },
   "outputs": [
    {
     "name": "stdout",
     "output_type": "stream",
     "text": [
      "best fit line:\n",
      "x = 140.9000 + -140.0000y\n"
     ]
    }
   ],
   "source": [
    "c, d = best_fit1(y1, x1)\n",
    "#best fit line:\n",
    "#x1 = 140.9000 + -140.0000y1"
   ]
  },
  {
   "cell_type": "code",
   "execution_count": 9,
   "metadata": {
    "collapsed": true
   },
   "outputs": [],
   "source": [
    "plt.scatter(x1, y1)\n",
    "y1fit = [a + b * x1i for x1i in x1]\n",
    "plt.plot(x1, y1fit)\n",
    "plt.show()"
   ]
  },
  {
   "cell_type": "code",
   "execution_count": 10,
   "metadata": {
    "collapsed": false
   },
   "outputs": [],
   "source": [
    "plt.scatter(y1, x1)\n",
    "x1fit = [c + d * y1i for y1i in y1]\n",
    "plt.plot(y1, x1fit)\n",
    "plt.show()"
   ]
  },
  {
   "cell_type": "markdown",
   "metadata": {},
   "source": [
    "#Q2:"
   ]
  },
  {
   "cell_type": "code",
   "execution_count": 11,
   "metadata": {
    "collapsed": false
   },
   "outputs": [],
   "source": [
    "import numpy as np\n",
    "import matplotlib.pyplot as plt\n",
    "from sklearn.neighbors import NearestNeighbors"
   ]
  },
  {
   "cell_type": "code",
   "execution_count": 12,
   "metadata": {
    "collapsed": false
   },
   "outputs": [],
   "source": [
    "# Generate 100k datapoints from normal distribution with mean 1 and standard deviation 0.01.\n",
    "# Another set of 5 anomalous datapoints from normal distribution with mean 0.1 and standard deviation 0.001.\n",
    "np.random.seed(12121)\n",
    "\n",
    "normal_1 =  np.random.normal(loc= 1, scale= 0.01, size=(100000, 2))\n",
    "normal_2 =  np.random.normal(loc= 0.1, scale= 0.001, size=(5, 2))"
   ]
  },
  {
   "cell_type": "code",
   "execution_count": 13,
   "metadata": {
    "collapsed": true
   },
   "outputs": [],
   "source": [
    "# Plot data to show differences between normal and outlier data\n",
    "normal_plot = plt.scatter(normal_1[:100000, 0], normal_1[:100000, 1], c='blue')\n",
    "anomaly_plot = plt.scatter(normal_2[:5, 0], normal_2[:5, 1], c='red')\n",
    "plt.show()"
   ]
  },
  {
   "cell_type": "code",
   "execution_count": 14,
   "metadata": {
    "collapsed": false
   },
   "outputs": [],
   "source": [
    "# Combining both groups together to get total (100k+5) datapoints:\n",
    "all_data = np.concatenate((normal_1, normal_2))"
   ]
  },
  {
   "cell_type": "code",
   "execution_count": 15,
   "metadata": {
    "collapsed": false
   },
   "outputs": [
    {
     "data": {
      "text/plain": [
       "0.0086101459505631382"
      ]
     },
     "execution_count": 15,
     "metadata": {},
     "output_type": "execute_result"
    }
   ],
   "source": [
    "## To check whether 1-NN approach can find the anomalies we calculated the distances and then sorted them in descending order\n",
    " \n",
    "nn_fit = NearestNeighbors(n_neighbors=2).fit(all_data)\n",
    "distances, indices = nn_fit.kneighbors()\n",
    "\n",
    "#The maximum distance between any two datapoints in 1-nearest neighbourhood is:\n",
    "np.amax(distances)"
   ]
  },
  {
   "cell_type": "code",
   "execution_count": 16,
   "metadata": {
    "collapsed": false
   },
   "outputs": [
    {
     "data": {
      "text/plain": [
       "(array([[  0.00000000e+00,   1.55496922e-04],\n",
       "        [  0.00000000e+00,   3.72730046e-05],\n",
       "        [  0.00000000e+00,   2.81651848e-05],\n",
       "        ..., \n",
       "        [  0.00000000e+00,   6.42722597e-04],\n",
       "        [  0.00000000e+00,   1.80212013e-04],\n",
       "        [  0.00000000e+00,   1.80212013e-04]]), array([[     0,  52821],\n",
       "        [     1,  70370],\n",
       "        [     2,  74595],\n",
       "        ..., \n",
       "        [100002, 100003],\n",
       "        [100003, 100004],\n",
       "        [100004, 100003]]))"
      ]
     },
     "execution_count": 16,
     "metadata": {},
     "output_type": "execute_result"
    }
   ],
   "source": [
    "nn_fit.kneighbors(all_data)"
   ]
  },
  {
   "cell_type": "code",
   "execution_count": 17,
   "metadata": {
    "collapsed": false
   },
   "outputs": [
    {
     "data": {
      "text/plain": [
       "1.2347653187541763"
      ]
     },
     "execution_count": 17,
     "metadata": {},
     "output_type": "execute_result"
    }
   ],
   "source": [
    "## To check whether 10-NN approach can find the anomalies we calculated the distances and then sorted them in descending order\n",
    "\n",
    "nn_fit = NearestNeighbors(n_neighbors=11).fit(all_data)\n",
    "distances, indices = nn_fit.kneighbors()\n",
    "\n",
    "#The maximum distance between any two datapoints in 10-nearest neighbourhood is:\n",
    "np.amax(distances)"
   ]
  },
  {
   "cell_type": "code",
   "execution_count": 18,
   "metadata": {
    "collapsed": false
   },
   "outputs": [
    {
     "data": {
      "text/plain": [
       "(array([[  0.00000000e+00,   1.55496922e-04,   2.35498643e-04, ...,\n",
       "           3.12313623e-04,   3.12604020e-04,   3.22526390e-04],\n",
       "        [  0.00000000e+00,   3.72730046e-05,   3.80533975e-05, ...,\n",
       "           2.73212926e-04,   2.81085402e-04,   2.97430195e-04],\n",
       "        [  0.00000000e+00,   2.81651848e-05,   1.00808949e-04, ...,\n",
       "           1.56325532e-04,   1.61408840e-04,   1.67866629e-04],\n",
       "        ..., \n",
       "        [  0.00000000e+00,   6.42722597e-04,   6.64049921e-04, ...,\n",
       "           1.23287927e+00,   1.23365617e+00,   1.23466313e+00],\n",
       "        [  0.00000000e+00,   1.80212013e-04,   5.70330065e-04, ...,\n",
       "           1.23238732e+00,   1.23316059e+00,   1.23416699e+00],\n",
       "        [  0.00000000e+00,   1.80212013e-04,   6.64049921e-04, ...,\n",
       "           1.23250605e+00,   1.23327811e+00,   1.23428432e+00]]),\n",
       " array([[     0,  52821,  66453, ...,  41385,  29065,  26580],\n",
       "        [     1,  70370,  30437, ...,   9512,  40718,  10644],\n",
       "        [     2,  74595,  24222, ...,  78020,  31667,  83327],\n",
       "        ..., \n",
       "        [100002, 100003, 100004, ...,  98576,  44754,  83709],\n",
       "        [100003, 100004, 100000, ...,  98576,  44754,  83709],\n",
       "        [100004, 100003, 100002, ...,  98576,  44754,  83709]]))"
      ]
     },
     "execution_count": 18,
     "metadata": {},
     "output_type": "execute_result"
    }
   ],
   "source": [
    "nn_fit.kneighbors(all_data)"
   ]
  },
  {
   "cell_type": "markdown",
   "metadata": {},
   "source": [
    "## Hence for k = 10-NN, these distances sorted in decreasing order have a sharp drop after the first 5 points and these 5 points are the ones which we have generated as anomalies (i.e. All 5 are correctly identified). \n",
    "\n",
    "## For 1-NN, the distances will likely have no clear threshold cutoff and any cutoff will likely result in many false positives."
   ]
  },
  {
   "cell_type": "code",
   "execution_count": null,
   "metadata": {
    "collapsed": true
   },
   "outputs": [],
   "source": []
  }
 ],
 "metadata": {
  "kernelspec": {
   "display_name": "Python 2",
   "language": "python",
   "name": "python2"
  },
  "language_info": {
   "codemirror_mode": {
    "name": "ipython",
    "version": 2
   },
   "file_extension": ".py",
   "mimetype": "text/x-python",
   "name": "python",
   "nbconvert_exporter": "python",
   "pygments_lexer": "ipython2",
   "version": "2.7.10"
  }
 },
 "nbformat": 4,
 "nbformat_minor": 0
}
