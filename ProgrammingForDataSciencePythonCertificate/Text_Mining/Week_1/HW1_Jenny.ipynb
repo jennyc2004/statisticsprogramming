{
 "cells": [
  {
   "cell_type": "code",
   "execution_count": 39,
   "metadata": {},
   "outputs": [
    {
     "name": "stdout",
     "output_type": "stream",
     "text": [
      "TMPY> Tokenizing documents\n",
      "TMPY> Generating dictionary\n"
     ]
    }
   ],
   "source": [
    "#rename the class provided python file as TextMiner.py\n",
    "from TextMining_tm_wk_1 import *\n",
    "import pickle\n",
    "tm = TextMiner('tmsk_q1a.properties')\n",
    "tm.tokenize()\n",
    "tm.mkdict()\n",
    "f = open('rtrn_default_python.dx','w+'); \n",
    "f.writelines([\"%s\\n\" % item  for item in tm.vocab[:500]])\n",
    "f.close()"
   ]
  },
  {
   "cell_type": "code",
   "execution_count": 2,
   "metadata": {},
   "outputs": [
    {
     "name": "stdout",
     "output_type": "stream",
     "text": [
      "TMPY> Tokenizing documents\n",
      "TMPY> Removing stopwords\n",
      "TMPY> Stemming tokens\n",
      "TMPY> Generating dictionary\n"
     ]
    }
   ],
   "source": [
    "tm = TextMiner('tmsk_q1b.properties')\n",
    "tm.tokenize()\n",
    "tm.stopwords()\n",
    "tm.stem()\n",
    "tm.mkdict()\n",
    "f = open('rtrn_stopstem_python.dx','w+'); \n",
    "f.writelines([\"%s\\n\" % item  for item in tm.vocab[:500]])\n",
    "f.close()"
   ]
  },
  {
   "cell_type": "code",
   "execution_count": 3,
   "metadata": {},
   "outputs": [
    {
     "name": "stdout",
     "output_type": "stream",
     "text": [
      "TMPY> Tokenizing documents\n",
      "TMPY> Removing stopwords\n",
      "TMPY> Stemming tokens\n",
      "TMPY> Generating dictionary\n"
     ]
    }
   ],
   "source": [
    "tm = TextMiner('tmsk_q1c.properties')\n",
    "tm.tokenize()\n",
    "tm.stopwords()\n",
    "tm.stem()\n",
    "tm.mkdict('earn', 1)\n",
    "f = open('rtrn_earn_python.dx','w+'); \n",
    "f.writelines([\"%s\\n\" % item  for item in tm.vocab])\n",
    "f.close()"
   ]
  },
  {
   "cell_type": "code",
   "execution_count": 37,
   "metadata": {},
   "outputs": [
    {
     "name": "stdout",
     "output_type": "stream",
     "text": [
      "TMPY> Tokenizing documents\n",
      "TMPY> Removing stopwords\n",
      "TMPY> Stemming tokens\n",
      "TMPY> Generating dictionary\n",
      "TMPY> Vectorizing documents\n"
     ]
    }
   ],
   "source": [
    "tm = TextMiner('tmsk_q2.properties')\n",
    "tm.tokenize()\n",
    "tm.stopwords()\n",
    "tm.stem()\n",
    "tm.mkdict('earn', 1)\n",
    "tm.vectorize()\n",
    "f = open('rtrn_earn_python.vec','w+'); \n",
    "for key in tm.bow:\n",
    "    vec = tm.bow[key]\n",
    "    for idx in vec:\n",
    "        if(vec[idx] > 0):\n",
    "            s = repr(idx)+'@'+repr(vec[idx])+' '\n",
    "            f.write(s)\n",
    "    f.write('\\n')\n",
    "f.close()"
   ]
  },
  {
   "cell_type": "code",
   "execution_count": 42,
   "metadata": {},
   "outputs": [
    {
     "name": "stdout",
     "output_type": "stream",
     "text": [
      "TMPY> Tokenizing documents\n",
      "TMPY> Removing stopwords\n",
      "TMPY> Stemming tokens\n",
      "TMPY> Generating dictionary\n",
      "TMPY> Vectorizing documents\n"
     ]
    }
   ],
   "source": [
    "tm = TextMiner('tmsk_q2.properties')\n",
    "tm.tokenize()\n",
    "tm.stopwords()\n",
    "tm.stem()\n",
    "tm.mkdict('earn', 340)\n",
    "tm.vectorize()\n",
    "#pickle.dump(tm,open( \"trainoutput\", \"wb\" ))"
   ]
  },
  {
   "cell_type": "code",
   "execution_count": null,
   "metadata": {},
   "outputs": [],
   "source": []
  }
 ],
 "metadata": {
  "kernelspec": {
   "display_name": "Python 3",
   "language": "python",
   "name": "python3"
  },
  "language_info": {
   "codemirror_mode": {
    "name": "ipython",
    "version": 3
   },
   "file_extension": ".py",
   "mimetype": "text/x-python",
   "name": "python",
   "nbconvert_exporter": "python",
   "pygments_lexer": "ipython3",
   "version": "3.6.5"
  }
 },
 "nbformat": 4,
 "nbformat_minor": 2
}
