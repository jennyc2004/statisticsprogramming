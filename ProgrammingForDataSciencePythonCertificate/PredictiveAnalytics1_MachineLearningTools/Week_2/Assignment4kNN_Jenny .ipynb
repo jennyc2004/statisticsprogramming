{
 "cells": [
  {
   "cell_type": "markdown",
   "metadata": {},
   "source": [
    "Question 1 (10 points)\n",
    "Perform a k-NN classification with all predictors except ID and ZIP code. Compute and report the accuracies (also called correct rates) in the validation set for odd k’s up to 19 (i.e., k = 1, 3, …, 19). What is the best choice of k?\n",
    "\n",
    "Question 2 (7 points)\n",
    "Using the best k, make predictions in the validation set. Based on the numbers in the classification matrix (also called a confusion matrix), explain how are the sensitivity and specificity calculated.\n",
    "\n",
    "Question 3 (6 points)\n",
    "Classify a new customer with the following profile: Age = 40, Experience = 10, Income = 84, Family = 2, CCAvg = 2, Education = 2, Mortgage = 0, Securities.Account = 0, CD.Account = 0, Online = 1, CreditCard = 1."
   ]
  },
  {
   "cell_type": "code",
   "execution_count": null,
   "metadata": {},
   "outputs": [],
   "source": [
    "import pandas as pd\n",
    "import matplotlib.pylab as plt\n",
    "from sklearn import preprocessing\n",
    "from sklearn.neighbors import NearestNeighbors\n",
    "from sklearn.neighbors import KNeighborsClassifier\n",
    "import numpy as np\n",
    "import statsmodels.formula.api as sm\n",
    "from pathlib import Path\n",
    "from utilities import regressionSummary, printConfusionMatrix\n",
    "from sklearn.metrics.classification import accuracy_score\n",
    "from sklearn.metrics import roc_curve, auc\n",
    "%matplotlib inline\n",
    "\n",
    "#import data and organize table for easier usage\n",
    "#DATA = Path('.').resolve().parent/'data'\n",
    "bank_df = pd.read_csv(\"../'data'/'UniversalBank.csv'\")\n",
    "bank_df.drop(columns = ['ID', 'ZIP Code'], inplace = True)\n",
    "columns = list(bank_df.columns)\n",
    "columns.remove('Personal Loan')\n",
    "columns.append('Personal Loan')\n",
    "bank_df = bank_df[columns]\n",
    "bank_df.columns = [s.strip().replace(' ', '_') for s in bank_df.columns]\n",
    "bank_df.columns"
   ]
  },
  {
   "cell_type": "code",
   "execution_count": 14,
   "metadata": {},
   "outputs": [
    {
     "data": {
      "text/html": [
       "<div>\n",
       "<style scoped>\n",
       "    .dataframe tbody tr th:only-of-type {\n",
       "        vertical-align: middle;\n",
       "    }\n",
       "\n",
       "    .dataframe tbody tr th {\n",
       "        vertical-align: top;\n",
       "    }\n",
       "\n",
       "    .dataframe thead th {\n",
       "        text-align: right;\n",
       "    }\n",
       "</style>\n",
       "<table border=\"1\" class=\"dataframe\">\n",
       "  <thead>\n",
       "    <tr style=\"text-align: right;\">\n",
       "      <th></th>\n",
       "      <th>k</th>\n",
       "      <th>accuracy</th>\n",
       "    </tr>\n",
       "  </thead>\n",
       "  <tbody>\n",
       "    <tr>\n",
       "      <th>0</th>\n",
       "      <td>1</td>\n",
       "      <td>0.9605</td>\n",
       "    </tr>\n",
       "    <tr>\n",
       "      <th>1</th>\n",
       "      <td>3</td>\n",
       "      <td>0.9660</td>\n",
       "    </tr>\n",
       "    <tr>\n",
       "      <th>2</th>\n",
       "      <td>5</td>\n",
       "      <td>0.9605</td>\n",
       "    </tr>\n",
       "    <tr>\n",
       "      <th>3</th>\n",
       "      <td>7</td>\n",
       "      <td>0.9595</td>\n",
       "    </tr>\n",
       "    <tr>\n",
       "      <th>4</th>\n",
       "      <td>9</td>\n",
       "      <td>0.9545</td>\n",
       "    </tr>\n",
       "    <tr>\n",
       "      <th>5</th>\n",
       "      <td>11</td>\n",
       "      <td>0.9550</td>\n",
       "    </tr>\n",
       "    <tr>\n",
       "      <th>6</th>\n",
       "      <td>13</td>\n",
       "      <td>0.9500</td>\n",
       "    </tr>\n",
       "    <tr>\n",
       "      <th>7</th>\n",
       "      <td>15</td>\n",
       "      <td>0.9465</td>\n",
       "    </tr>\n",
       "    <tr>\n",
       "      <th>8</th>\n",
       "      <td>17</td>\n",
       "      <td>0.9455</td>\n",
       "    </tr>\n",
       "    <tr>\n",
       "      <th>9</th>\n",
       "      <td>19</td>\n",
       "      <td>0.9435</td>\n",
       "    </tr>\n",
       "  </tbody>\n",
       "</table>\n",
       "</div>"
      ],
      "text/plain": [
       "    k  accuracy\n",
       "0   1    0.9605\n",
       "1   3    0.9660\n",
       "2   5    0.9605\n",
       "3   7    0.9595\n",
       "4   9    0.9545\n",
       "5  11    0.9550\n",
       "6  13    0.9500\n",
       "7  15    0.9465\n",
       "8  17    0.9455\n",
       "9  19    0.9435"
      ]
     },
     "execution_count": 14,
     "metadata": {},
     "output_type": "execute_result"
    }
   ],
   "source": [
    "trainData = bank_df.sample(frac=0.6, random_state=12345)\n",
    "validData = bank_df.drop(trainData.index)\n",
    "accuracy_df = pd.DataFrame({'k':range(1,20, 2), 'accuracy': 0})\n",
    "scaler = preprocessing.StandardScaler()\n",
    "scaler.fit(trainData.iloc[:, :-1]) #preprocess data except response column\n",
    "bankNorm = pd.concat([pd.DataFrame(scaler.transform(bank_df.iloc[:,:-1]), \n",
    "                                   columns=bank_df.columns[:-1]), bank_df.loc[:,'Personal_Loan']], axis = 1)\n",
    "trainNorm = bankNorm.iloc[trainData.index]\n",
    "validNorm = bankNorm.iloc[validData.index]\n",
    "for idx, row in accuracy_df.iterrows():\n",
    "    knn = KNeighborsClassifier(n_neighbors=row.k).fit(trainNorm.iloc[:,:-1],\n",
    "                                                     trainNorm.loc[:,'Personal_Loan'])\n",
    "    knnPred = knn.predict(validNorm.iloc[:,:-1])\n",
    "    accuracy_df.loc[idx, 'accuracy'] = accuracy_score(validNorm.loc[:,'Personal_Loan'], knnPred)\n",
    "accuracy_df"
   ]
  },
  {
   "cell_type": "markdown",
   "metadata": {},
   "source": [
    "Question 1 : the best choice of k = 3"
   ]
  },
  {
   "cell_type": "code",
   "execution_count": 13,
   "metadata": {},
   "outputs": [
    {
     "name": "stdout",
     "output_type": "stream",
     "text": [
      "Confusion Matrix (Accuracy 0.9660)\n",
      "\n",
      "                Reference\n",
      "      Prediction Personal_Loan(0) Personal_Loan(1)\n",
      "Personal_Loan(0)             1792               60\n",
      "Personal_Loan(1)                8              140\n"
     ]
    }
   ],
   "source": [
    "#fit using k=3 and predict, create confusion matrix\n",
    "knn = KNeighborsClassifier(n_neighbors=3).fit(trainNorm.iloc[:,:-1],\n",
    "                                                     trainNorm.loc[:,'Personal_Loan'])\n",
    "knnPred = knn.predict(validNorm.iloc[:,:-1])\n",
    "printConfusionMatrix(knnPred, validNorm.iloc[:,-1:], \n",
    "                     class_names=['Personal_Loan(0)', 'Personal_Loan(1)'])\n"
   ]
  },
  {
   "cell_type": "markdown",
   "metadata": {},
   "source": [
    "Question 2 :\n",
    "TP = 124, FP = 9, TN = 1792, FN = 75\n",
    "Sensitivity = TP / (TP + FN) = 124/(124+75) = 62.3%\n",
    "Specificity = TN / (FP + TN) = 1792/(9+1792 = 99.5%"
   ]
  },
  {
   "cell_type": "code",
   "execution_count": 10,
   "metadata": {},
   "outputs": [
    {
     "data": {
      "text/html": [
       "<div>\n",
       "<style scoped>\n",
       "    .dataframe tbody tr th:only-of-type {\n",
       "        vertical-align: middle;\n",
       "    }\n",
       "\n",
       "    .dataframe tbody tr th {\n",
       "        vertical-align: top;\n",
       "    }\n",
       "\n",
       "    .dataframe thead th {\n",
       "        text-align: right;\n",
       "    }\n",
       "</style>\n",
       "<table border=\"1\" class=\"dataframe\">\n",
       "  <thead>\n",
       "    <tr style=\"text-align: right;\">\n",
       "      <th></th>\n",
       "      <th>Age</th>\n",
       "      <th>Experience</th>\n",
       "      <th>Income</th>\n",
       "      <th>Family</th>\n",
       "      <th>CCAvg</th>\n",
       "      <th>Education</th>\n",
       "      <th>Mortgage</th>\n",
       "      <th>Securities_Account</th>\n",
       "      <th>CD_Account</th>\n",
       "      <th>Online</th>\n",
       "      <th>CreditCard</th>\n",
       "      <th>Personal_Loan</th>\n",
       "    </tr>\n",
       "  </thead>\n",
       "  <tbody>\n",
       "    <tr>\n",
       "      <th>3830</th>\n",
       "      <td>-1.015670</td>\n",
       "      <td>-1.082925</td>\n",
       "      <td>-0.865352</td>\n",
       "      <td>-0.365793</td>\n",
       "      <td>0.039522</td>\n",
       "      <td>1.353577</td>\n",
       "      <td>-0.558498</td>\n",
       "      <td>2.92996</td>\n",
       "      <td>-0.257831</td>\n",
       "      <td>0.821609</td>\n",
       "      <td>-0.635482</td>\n",
       "      <td>0</td>\n",
       "    </tr>\n",
       "    <tr>\n",
       "      <th>1978</th>\n",
       "      <td>-0.754386</td>\n",
       "      <td>-0.821412</td>\n",
       "      <td>-0.909458</td>\n",
       "      <td>-0.365793</td>\n",
       "      <td>-0.305947</td>\n",
       "      <td>1.353577</td>\n",
       "      <td>-0.558498</td>\n",
       "      <td>2.92996</td>\n",
       "      <td>-0.257831</td>\n",
       "      <td>0.821609</td>\n",
       "      <td>-0.635482</td>\n",
       "      <td>0</td>\n",
       "    </tr>\n",
       "    <tr>\n",
       "      <th>3569</th>\n",
       "      <td>-0.406007</td>\n",
       "      <td>-0.472728</td>\n",
       "      <td>-1.085882</td>\n",
       "      <td>-0.365793</td>\n",
       "      <td>-0.651417</td>\n",
       "      <td>1.353577</td>\n",
       "      <td>-0.558498</td>\n",
       "      <td>2.92996</td>\n",
       "      <td>-0.257831</td>\n",
       "      <td>0.821609</td>\n",
       "      <td>-0.635482</td>\n",
       "      <td>0</td>\n",
       "    </tr>\n",
       "  </tbody>\n",
       "</table>\n",
       "</div>"
      ],
      "text/plain": [
       "           Age  Experience    Income    Family     CCAvg  Education  Mortgage  \\\n",
       "3830 -1.015670   -1.082925 -0.865352 -0.365793  0.039522   1.353577 -0.558498   \n",
       "1978 -0.754386   -0.821412 -0.909458 -0.365793 -0.305947   1.353577 -0.558498   \n",
       "3569 -0.406007   -0.472728 -1.085882 -0.365793 -0.651417   1.353577 -0.558498   \n",
       "\n",
       "      Securities_Account  CD_Account    Online  CreditCard  Personal_Loan  \n",
       "3830             2.92996   -0.257831  0.821609   -0.635482              0  \n",
       "1978             2.92996   -0.257831  0.821609   -0.635482              0  \n",
       "3569             2.92996   -0.257831  0.821609   -0.635482              0  "
      ]
     },
     "execution_count": 10,
     "metadata": {},
     "output_type": "execute_result"
    }
   ],
   "source": [
    "newCustomer = pd.DataFrame([{'Age' : 40, 'Experience' : 10, 'Income' : 84, 'Family' : 2, \n",
    "                              'CCAvg' : 2, 'Education' : 2, 'Mortgage' : 0, 'Securities_Account' : 0, \n",
    "                              'CD_Account' : 0, 'Online' : 1, 'CreditCard' : 1}])\n",
    "newCustomerNorm = pd.DataFrame(scaler.transform(newCustomer), columns=bank_df.columns[:-1])\n",
    "knn_new = NearestNeighbors(n_neighbors = 3)\n",
    "knn_new.fit(trainNorm.iloc[:,:-1])\n",
    "distances, indices = knn_new.kneighbors(newCustomerNorm)\n",
    "trainNorm.iloc[indices[0], :]"
   ]
  },
  {
   "cell_type": "markdown",
   "metadata": {},
   "source": [
    "Question 3 : Classify the new customer as Personal Loan = 0"
   ]
  },
  {
   "cell_type": "code",
   "execution_count": 12,
   "metadata": {},
   "outputs": [
    {
     "data": {
      "text/plain": [
       "array([[1., 0.]])"
      ]
     },
     "execution_count": 12,
     "metadata": {},
     "output_type": "execute_result"
    }
   ],
   "source": [
    "knn.predict_proba(newCustomerNorm)"
   ]
  },
  {
   "cell_type": "code",
   "execution_count": null,
   "metadata": {},
   "outputs": [],
   "source": []
  }
 ],
 "metadata": {
  "kernelspec": {
   "display_name": "Python 3",
   "language": "python",
   "name": "python3"
  },
  "language_info": {
   "codemirror_mode": {
    "name": "ipython",
    "version": 3
   },
   "file_extension": ".py",
   "mimetype": "text/x-python",
   "name": "python",
   "nbconvert_exporter": "python",
   "pygments_lexer": "ipython3",
   "version": "3.6.5"
  }
 },
 "nbformat": 4,
 "nbformat_minor": 2
}
