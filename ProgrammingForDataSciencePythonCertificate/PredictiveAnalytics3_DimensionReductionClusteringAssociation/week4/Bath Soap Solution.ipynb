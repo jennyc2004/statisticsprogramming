{
 "cells": [
  {
   "cell_type": "markdown",
   "metadata": {},
   "source": [
    "# Case 6 (CRISA) Bath Soap Solution Narrative\n",
    "We look first at clusters based on purchase behavior, then clusters based on the basis for purchase, then\n",
    "clusters based on both. The complexity of marketing to 5 segments would probably not be supported\n",
    "by clustering just based on purchase behavior, or clustering just based on basis for purchase, so we will\n",
    "look at 2-3 clusters for those variables, and more when we cluster using both sets of variables.\n",
    "\n",
    "In choosing $k$, we would seek a $k$ that produces clusters that are distinct and separate from one another,\n",
    "in ways (variables) that are translatable into marketing actions. The variables we have been asked to\n",
    "consider are those that relate to purchase behavior (volume and frequency of purchase, brand loyalty),\n",
    "and a separate set that relate to the basis for purchase (response to promotions, pricing, and selling\n",
    "proposition).\n",
    "\n",
    "Finally, we look at predictive models that classify customers into segments based on demographic data"
   ]
  },
  {
   "cell_type": "code",
   "execution_count": 1,
   "metadata": {},
   "outputs": [],
   "source": [
    "from Bath_Soap import kMeansClustering\n",
    "from Bath_Soap import clusterCenters, clusterSizes, clusterDemographics\n",
    "from Bath_Soap import behaviorIndicator, purchaseBasisIndicator\n",
    "from Bath_Soap import display_side_by_side, prepareTrainTest\n",
    "from Bath_Soap import evaluateClassifier, logisticRegresssion, plotLiftCurve\n",
    "\n",
    "import statsmodels.api as sm"
   ]
  },
  {
   "cell_type": "markdown",
   "metadata": {},
   "source": [
    "## Clusters based on \"purchase behavior\"\n",
    "Note: Some thought is needed about brand loyalty. For brand loyalty indicators, we have data on \n",
    "    \n",
    "1. percent of purchases devoted to major brands (i.e. is a customer a total devotee of brand A?), \n",
    "2. a catch-all variable for percent of purchases devoted to other smaller brands (to reduce complexity of analysis), and \n",
    "3. a derived variable that indicates the maximum share devoted to any one brand. \n",
    "    \n",
    "Since\n",
    "CRISA is compiling this data for general marketing use, and not on behalf of one particular brand, we can\n",
    "say a customer who is fully devoted to brand A is similar to a customer fully devoted to brand B - both\n",
    "are fully loyal customers in their behavior. But if we include all the brand shares in the clustering, the\n",
    "analysis will treat those two customers as very different. So we will use only the derived variable for\n",
    "maximum purchase share for a brand, any brand, plus \"max.brand.ind\" and the \"other.brand.ind,\" along\n",
    "with the purchase.ind (for volume, frequency, etc.). We will not use the individual values - \"brand.ind.\""
   ]
  },
  {
   "cell_type": "code",
   "execution_count": 2,
   "metadata": {},
   "outputs": [
    {
     "name": "stdout",
     "output_type": "stream",
     "text": [
      "0    317\n",
      "1    283\n",
      "dtype: int64\n"
     ]
    },
    {
     "data": {
      "text/html": [
       "<div>\n",
       "<style scoped>\n",
       "    .dataframe tbody tr th:only-of-type {\n",
       "        vertical-align: middle;\n",
       "    }\n",
       "\n",
       "    .dataframe tbody tr th {\n",
       "        vertical-align: top;\n",
       "    }\n",
       "\n",
       "    .dataframe thead th {\n",
       "        text-align: right;\n",
       "    }\n",
       "</style>\n",
       "<table border=\"1\" class=\"dataframe\">\n",
       "  <thead>\n",
       "    <tr style=\"text-align: right;\">\n",
       "      <th></th>\n",
       "      <th>No. of Brands</th>\n",
       "      <th>Brand Runs</th>\n",
       "      <th>Total Volume</th>\n",
       "      <th>No. of  Trans</th>\n",
       "      <th>Value</th>\n",
       "      <th>Trans / Brand Runs</th>\n",
       "      <th>Vol/Tran</th>\n",
       "      <th>Avg. Price</th>\n",
       "      <th>Others 999</th>\n",
       "      <th>maxBrandIndicator</th>\n",
       "    </tr>\n",
       "  </thead>\n",
       "  <tbody>\n",
       "    <tr>\n",
       "      <th>0</th>\n",
       "      <td>0.483611</td>\n",
       "      <td>0.632865</td>\n",
       "      <td>0.158222</td>\n",
       "      <td>0.522115</td>\n",
       "      <td>0.306960</td>\n",
       "      <td>-0.261283</td>\n",
       "      <td>-0.285383</td>\n",
       "      <td>0.279689</td>\n",
       "      <td>0.488928</td>\n",
       "      <td>-0.588026</td>\n",
       "    </tr>\n",
       "    <tr>\n",
       "      <th>1</th>\n",
       "      <td>-0.541712</td>\n",
       "      <td>-0.708898</td>\n",
       "      <td>-0.177232</td>\n",
       "      <td>-0.584843</td>\n",
       "      <td>-0.343838</td>\n",
       "      <td>0.292674</td>\n",
       "      <td>0.319669</td>\n",
       "      <td>-0.313291</td>\n",
       "      <td>-0.547669</td>\n",
       "      <td>0.658673</td>\n",
       "    </tr>\n",
       "  </tbody>\n",
       "</table>\n",
       "</div>"
      ],
      "text/plain": [
       "   No. of Brands  Brand Runs  Total Volume  No. of  Trans     Value  \\\n",
       "0       0.483611    0.632865      0.158222       0.522115  0.306960   \n",
       "1      -0.541712   -0.708898     -0.177232      -0.584843 -0.343838   \n",
       "\n",
       "   Trans / Brand Runs  Vol/Tran  Avg. Price   Others 999  maxBrandIndicator  \n",
       "0           -0.261283 -0.285383     0.279689    0.488928          -0.588026  \n",
       "1            0.292674  0.319669    -0.313291   -0.547669           0.658673  "
      ]
     },
     "execution_count": 2,
     "metadata": {},
     "output_type": "execute_result"
    }
   ],
   "source": [
    "# Cluster dataset using 'behaviorIndicator' into two clusters\n",
    "clusters = kMeansClustering(2, behaviorIndicator)\n",
    "print(clusterSizes(clusters))\n",
    "clusterCenters(clusters, behaviorIndicator)"
   ]
  },
  {
   "cell_type": "markdown",
   "metadata": {},
   "source": [
    "Comment: The two clusters are well-separated on everything, except transaction volume. \n",
    "- Cluster 0 (n=317) is high activity & value, with low loyalty. \n",
    "- Cluster 1 (n=283) is the reverse. \n",
    "\n",
    "(\"Value\" here is the meaning attached to the variable - total dollar value of purchases, not some broader meaning.)\n",
    "Note: Due to the randomization element in the k-means process, different runs can produce different\n",
    "cluster results."
   ]
  },
  {
   "cell_type": "code",
   "execution_count": 3,
   "metadata": {},
   "outputs": [
    {
     "name": "stdout",
     "output_type": "stream",
     "text": [
      "0    169\n",
      "1    255\n",
      "2    176\n",
      "dtype: int64\n"
     ]
    },
    {
     "data": {
      "text/html": [
       "<div>\n",
       "<style scoped>\n",
       "    .dataframe tbody tr th:only-of-type {\n",
       "        vertical-align: middle;\n",
       "    }\n",
       "\n",
       "    .dataframe tbody tr th {\n",
       "        vertical-align: top;\n",
       "    }\n",
       "\n",
       "    .dataframe thead th {\n",
       "        text-align: right;\n",
       "    }\n",
       "</style>\n",
       "<table border=\"1\" class=\"dataframe\">\n",
       "  <thead>\n",
       "    <tr style=\"text-align: right;\">\n",
       "      <th></th>\n",
       "      <th>No. of Brands</th>\n",
       "      <th>Brand Runs</th>\n",
       "      <th>Total Volume</th>\n",
       "      <th>No. of  Trans</th>\n",
       "      <th>Value</th>\n",
       "      <th>Trans / Brand Runs</th>\n",
       "      <th>Vol/Tran</th>\n",
       "      <th>Avg. Price</th>\n",
       "      <th>Others 999</th>\n",
       "      <th>maxBrandIndicator</th>\n",
       "    </tr>\n",
       "  </thead>\n",
       "  <tbody>\n",
       "    <tr>\n",
       "      <th>0</th>\n",
       "      <td>0.956671</td>\n",
       "      <td>1.089336</td>\n",
       "      <td>0.614067</td>\n",
       "      <td>1.070582</td>\n",
       "      <td>0.744401</td>\n",
       "      <td>-0.255378</td>\n",
       "      <td>-0.202562</td>\n",
       "      <td>0.126356</td>\n",
       "      <td>0.253722</td>\n",
       "      <td>-0.476069</td>\n",
       "    </tr>\n",
       "    <tr>\n",
       "      <th>1</th>\n",
       "      <td>-0.301247</td>\n",
       "      <td>-0.224690</td>\n",
       "      <td>-0.531892</td>\n",
       "      <td>-0.425770</td>\n",
       "      <td>-0.453789</td>\n",
       "      <td>-0.246577</td>\n",
       "      <td>-0.266204</td>\n",
       "      <td>0.232878</td>\n",
       "      <td>0.611302</td>\n",
       "      <td>-0.536321</td>\n",
       "    </tr>\n",
       "    <tr>\n",
       "      <th>2</th>\n",
       "      <td>-0.482156</td>\n",
       "      <td>-0.720465</td>\n",
       "      <td>0.180994</td>\n",
       "      <td>-0.411120</td>\n",
       "      <td>-0.057315</td>\n",
       "      <td>0.602477</td>\n",
       "      <td>0.580199</td>\n",
       "      <td>-0.458739</td>\n",
       "      <td>-1.129323</td>\n",
       "      <td>1.234190</td>\n",
       "    </tr>\n",
       "  </tbody>\n",
       "</table>\n",
       "</div>"
      ],
      "text/plain": [
       "   No. of Brands  Brand Runs  Total Volume  No. of  Trans     Value  \\\n",
       "0       0.956671    1.089336      0.614067       1.070582  0.744401   \n",
       "1      -0.301247   -0.224690     -0.531892      -0.425770 -0.453789   \n",
       "2      -0.482156   -0.720465      0.180994      -0.411120 -0.057315   \n",
       "\n",
       "   Trans / Brand Runs  Vol/Tran  Avg. Price   Others 999  maxBrandIndicator  \n",
       "0           -0.255378 -0.202562     0.126356    0.253722          -0.476069  \n",
       "1           -0.246577 -0.266204     0.232878    0.611302          -0.536321  \n",
       "2            0.602477  0.580199    -0.458739   -1.129323           1.234190  "
      ]
     },
     "execution_count": 3,
     "metadata": {},
     "output_type": "execute_result"
    }
   ],
   "source": [
    "# Cluster dataset using 'behaviorIndicator' into three clusters\n",
    "clusters = kMeansClustering(3, behaviorIndicator)\n",
    "print(clusterSizes(clusters))\n",
    "clusterCenters(clusters, behaviorIndicator)"
   ]
  },
  {
   "cell_type": "markdown",
   "metadata": {},
   "source": [
    "Comment: \n",
    "- Cluster 0 (n=169) is not at all loyal, favoring many brands, and of high value.\n",
    "- Cluster 1 (n=255) is also not very loyal, but may be of the least interest since its customers have the lowest value.\n",
    "- Cluster 2 (n=176) is highly loyal, favoring main brands and bigger individual purchases, with middling overall value. \n"
   ]
  },
  {
   "cell_type": "markdown",
   "metadata": {},
   "source": [
    "## Clusters based on all of the above variables\n"
   ]
  },
  {
   "cell_type": "code",
   "execution_count": 4,
   "metadata": {},
   "outputs": [
    {
     "name": "stdout",
     "output_type": "stream",
     "text": [
      "0    527\n",
      "1     73\n",
      "dtype: int64\n"
     ]
    },
    {
     "data": {
      "text/html": [
       "<table style=\"display:inline\" border=\"1\" class=\"dataframe\">\n",
       "  <thead>\n",
       "    <tr style=\"text-align: right;\">\n",
       "      <th></th>\n",
       "      <th>0</th>\n",
       "      <th>1</th>\n",
       "    </tr>\n",
       "  </thead>\n",
       "  <tbody>\n",
       "    <tr>\n",
       "      <th>No. of Brands</th>\n",
       "      <td>0.071443</td>\n",
       "      <td>-0.515759</td>\n",
       "    </tr>\n",
       "    <tr>\n",
       "      <th>Brand Runs</th>\n",
       "      <td>0.106566</td>\n",
       "      <td>-0.769322</td>\n",
       "    </tr>\n",
       "    <tr>\n",
       "      <th>Total Volume</th>\n",
       "      <td>-0.021206</td>\n",
       "      <td>0.153087</td>\n",
       "    </tr>\n",
       "    <tr>\n",
       "      <th>No. of  Trans</th>\n",
       "      <td>0.054136</td>\n",
       "      <td>-0.390817</td>\n",
       "    </tr>\n",
       "    <tr>\n",
       "      <th>Value</th>\n",
       "      <td>0.068413</td>\n",
       "      <td>-0.493883</td>\n",
       "    </tr>\n",
       "    <tr>\n",
       "      <th>Trans / Brand Runs</th>\n",
       "      <td>-0.144100</td>\n",
       "      <td>1.040286</td>\n",
       "    </tr>\n",
       "    <tr>\n",
       "      <th>Vol/Tran</th>\n",
       "      <td>-0.074972</td>\n",
       "      <td>0.541233</td>\n",
       "    </tr>\n",
       "    <tr>\n",
       "      <th>Avg. Price</th>\n",
       "      <td>0.180076</td>\n",
       "      <td>-1.299999</td>\n",
       "    </tr>\n",
       "    <tr>\n",
       "      <th>Others 999</th>\n",
       "      <td>0.173881</td>\n",
       "      <td>-1.255280</td>\n",
       "    </tr>\n",
       "    <tr>\n",
       "      <th>maxBrandIndicator</th>\n",
       "      <td>-0.194949</td>\n",
       "      <td>1.407373</td>\n",
       "    </tr>\n",
       "    <tr>\n",
       "      <th>Pur Vol No Promo - %</th>\n",
       "      <td>-0.027558</td>\n",
       "      <td>0.198948</td>\n",
       "    </tr>\n",
       "    <tr>\n",
       "      <th>Pur Vol Promo 6 %</th>\n",
       "      <td>0.057591</td>\n",
       "      <td>-0.415757</td>\n",
       "    </tr>\n",
       "    <tr>\n",
       "      <th>Pur Vol Other Promo %</th>\n",
       "      <td>-0.028648</td>\n",
       "      <td>0.206818</td>\n",
       "    </tr>\n",
       "    <tr>\n",
       "      <th>Pr Cat 1</th>\n",
       "      <td>0.110774</td>\n",
       "      <td>-0.799701</td>\n",
       "    </tr>\n",
       "    <tr>\n",
       "      <th>Pr Cat 2</th>\n",
       "      <td>0.161535</td>\n",
       "      <td>-1.166152</td>\n",
       "    </tr>\n",
       "    <tr>\n",
       "      <th>Pr Cat 3</th>\n",
       "      <td>-0.336524</td>\n",
       "      <td>2.429429</td>\n",
       "    </tr>\n",
       "    <tr>\n",
       "      <th>Pr Cat 4</th>\n",
       "      <td>0.045662</td>\n",
       "      <td>-0.329644</td>\n",
       "    </tr>\n",
       "    <tr>\n",
       "      <th>PropCat 5</th>\n",
       "      <td>0.156704</td>\n",
       "      <td>-1.131277</td>\n",
       "    </tr>\n",
       "    <tr>\n",
       "      <th>PropCat 14</th>\n",
       "      <td>-0.336995</td>\n",
       "      <td>2.432829</td>\n",
       "    </tr>\n",
       "  </tbody>\n",
       "</table style=\"display:inline\"><table style=\"display:inline\" border=\"1\" class=\"dataframe\">\n",
       "  <thead>\n",
       "    <tr style=\"text-align: right;\">\n",
       "      <th></th>\n",
       "      <th>0</th>\n",
       "      <th>1</th>\n",
       "    </tr>\n",
       "  </thead>\n",
       "  <tbody>\n",
       "    <tr>\n",
       "      <th>SEC</th>\n",
       "      <td>2.371917</td>\n",
       "      <td>3.424658</td>\n",
       "    </tr>\n",
       "    <tr>\n",
       "      <th>FEH</th>\n",
       "      <td>2.047438</td>\n",
       "      <td>2.054795</td>\n",
       "    </tr>\n",
       "    <tr>\n",
       "      <th>MT</th>\n",
       "      <td>8.246679</td>\n",
       "      <td>7.684932</td>\n",
       "    </tr>\n",
       "    <tr>\n",
       "      <th>SEX</th>\n",
       "      <td>1.762808</td>\n",
       "      <td>1.561644</td>\n",
       "    </tr>\n",
       "    <tr>\n",
       "      <th>AGE</th>\n",
       "      <td>3.244782</td>\n",
       "      <td>2.986301</td>\n",
       "    </tr>\n",
       "    <tr>\n",
       "      <th>EDU</th>\n",
       "      <td>4.275142</td>\n",
       "      <td>2.369863</td>\n",
       "    </tr>\n",
       "    <tr>\n",
       "      <th>HS</th>\n",
       "      <td>4.191651</td>\n",
       "      <td>4.191781</td>\n",
       "    </tr>\n",
       "    <tr>\n",
       "      <th>CHILD</th>\n",
       "      <td>3.201139</td>\n",
       "      <td>3.465753</td>\n",
       "    </tr>\n",
       "    <tr>\n",
       "      <th>CS</th>\n",
       "      <td>0.937381</td>\n",
       "      <td>0.890411</td>\n",
       "    </tr>\n",
       "    <tr>\n",
       "      <th>Affluence Index</th>\n",
       "      <td>18.168880</td>\n",
       "      <td>8.726027</td>\n",
       "    </tr>\n",
       "  </tbody>\n",
       "</table style=\"display:inline\">"
      ]
     },
     "metadata": {},
     "output_type": "display_data"
    }
   ],
   "source": [
    "# Cluster dataset using 'behaviorIndicator' and 'purchaseIndicator' into two clusters\n",
    "combinedIndicator = behaviorIndicator + purchaseBasisIndicator\n",
    "clusters = kMeansClustering(2, combinedIndicator)\n",
    "print(clusterSizes(clusters))\n",
    "\n",
    "# Display cluster centers and cluster demographics\n",
    "display_side_by_side(clusterCenters(clusters, combinedIndicator).transpose(),\n",
    "                     clusterDemographics(clusters).transpose())"
   ]
  },
  {
   "cell_type": "markdown",
   "metadata": {},
   "source": [
    "Comment: The two clusters are separated on almost all variables, Value being an important exception.\n",
    "- Cluster 1 (n=73) is the more loyal, with lower socioeconomic status and affluence, and larger\n",
    "households."
   ]
  },
  {
   "cell_type": "code",
   "execution_count": 5,
   "metadata": {
    "scrolled": true
   },
   "outputs": [
    {
     "name": "stdout",
     "output_type": "stream",
     "text": [
      "Cluster 0 70, Cluster 1 252, Cluster 2 278\n"
     ]
    },
    {
     "data": {
      "text/html": [
       "<table style=\"display:inline\" border=\"1\" class=\"dataframe\">\n",
       "  <thead>\n",
       "    <tr style=\"text-align: right;\">\n",
       "      <th></th>\n",
       "      <th>0</th>\n",
       "      <th>1</th>\n",
       "      <th>2</th>\n",
       "    </tr>\n",
       "  </thead>\n",
       "  <tbody>\n",
       "    <tr>\n",
       "      <th>No. of Brands</th>\n",
       "      <td>-0.583893</td>\n",
       "      <td>0.177248</td>\n",
       "      <td>-0.013647</td>\n",
       "    </tr>\n",
       "    <tr>\n",
       "      <th>Brand Runs</th>\n",
       "      <td>-0.800569</td>\n",
       "      <td>0.416647</td>\n",
       "      <td>-0.176098</td>\n",
       "    </tr>\n",
       "    <tr>\n",
       "      <th>Total Volume</th>\n",
       "      <td>0.083386</td>\n",
       "      <td>-0.307694</td>\n",
       "      <td>0.257921</td>\n",
       "    </tr>\n",
       "    <tr>\n",
       "      <th>No. of  Trans</th>\n",
       "      <td>-0.433421</td>\n",
       "      <td>0.230518</td>\n",
       "      <td>-0.099824</td>\n",
       "    </tr>\n",
       "    <tr>\n",
       "      <th>Value</th>\n",
       "      <td>-0.555616</td>\n",
       "      <td>-0.002653</td>\n",
       "      <td>0.142308</td>\n",
       "    </tr>\n",
       "    <tr>\n",
       "      <th>Trans / Brand Runs</th>\n",
       "      <td>1.037226</td>\n",
       "      <td>-0.251914</td>\n",
       "      <td>-0.032818</td>\n",
       "    </tr>\n",
       "    <tr>\n",
       "      <th>Vol/Tran</th>\n",
       "      <td>0.513840</td>\n",
       "      <td>-0.496185</td>\n",
       "      <td>0.320395</td>\n",
       "    </tr>\n",
       "    <tr>\n",
       "      <th>Avg. Price</th>\n",
       "      <td>-1.318253</td>\n",
       "      <td>0.712855</td>\n",
       "      <td>-0.314251</td>\n",
       "    </tr>\n",
       "    <tr>\n",
       "      <th>Others 999</th>\n",
       "      <td>-1.264136</td>\n",
       "      <td>0.507151</td>\n",
       "      <td>-0.141412</td>\n",
       "    </tr>\n",
       "    <tr>\n",
       "      <th>maxBrandIndicator</th>\n",
       "      <td>1.421065</td>\n",
       "      <td>-0.537156</td>\n",
       "      <td>0.129097</td>\n",
       "    </tr>\n",
       "  </tbody>\n",
       "</table style=\"display:inline\"><table style=\"display:inline\" border=\"1\" class=\"dataframe\">\n",
       "  <thead>\n",
       "    <tr style=\"text-align: right;\">\n",
       "      <th></th>\n",
       "      <th>0</th>\n",
       "      <th>1</th>\n",
       "      <th>2</th>\n",
       "    </tr>\n",
       "  </thead>\n",
       "  <tbody>\n",
       "    <tr>\n",
       "      <th>Pur Vol No Promo - %</th>\n",
       "      <td>0.210216</td>\n",
       "      <td>-0.432223</td>\n",
       "      <td>0.338867</td>\n",
       "    </tr>\n",
       "    <tr>\n",
       "      <th>Pur Vol Promo 6 %</th>\n",
       "      <td>-0.436005</td>\n",
       "      <td>0.437706</td>\n",
       "      <td>-0.286984</td>\n",
       "    </tr>\n",
       "    <tr>\n",
       "      <th>Pur Vol Other Promo %</th>\n",
       "      <td>0.214271</td>\n",
       "      <td>0.152045</td>\n",
       "      <td>-0.191778</td>\n",
       "    </tr>\n",
       "    <tr>\n",
       "      <th>Pr Cat 1</th>\n",
       "      <td>-0.797226</td>\n",
       "      <td>0.853929</td>\n",
       "      <td>-0.573325</td>\n",
       "    </tr>\n",
       "    <tr>\n",
       "      <th>Pr Cat 2</th>\n",
       "      <td>-1.220714</td>\n",
       "      <td>-0.351743</td>\n",
       "      <td>0.626220</td>\n",
       "    </tr>\n",
       "    <tr>\n",
       "      <th>Pr Cat 3</th>\n",
       "      <td>2.495499</td>\n",
       "      <td>-0.425507</td>\n",
       "      <td>-0.242652</td>\n",
       "    </tr>\n",
       "    <tr>\n",
       "      <th>Pr Cat 4</th>\n",
       "      <td>-0.336964</td>\n",
       "      <td>-0.084561</td>\n",
       "      <td>0.161500</td>\n",
       "    </tr>\n",
       "    <tr>\n",
       "      <th>PropCat 5</th>\n",
       "      <td>-1.142977</td>\n",
       "      <td>-0.217019</td>\n",
       "      <td>0.484522</td>\n",
       "    </tr>\n",
       "    <tr>\n",
       "      <th>PropCat 14</th>\n",
       "      <td>2.498321</td>\n",
       "      <td>-0.425938</td>\n",
       "      <td>-0.242972</td>\n",
       "    </tr>\n",
       "  </tbody>\n",
       "</table style=\"display:inline\"><table style=\"display:inline\" border=\"1\" class=\"dataframe\">\n",
       "  <thead>\n",
       "    <tr style=\"text-align: right;\">\n",
       "      <th></th>\n",
       "      <th>0</th>\n",
       "      <th>1</th>\n",
       "      <th>2</th>\n",
       "    </tr>\n",
       "  </thead>\n",
       "  <tbody>\n",
       "    <tr>\n",
       "      <th>SEC</th>\n",
       "      <td>3.400000</td>\n",
       "      <td>2.047619</td>\n",
       "      <td>2.683453</td>\n",
       "    </tr>\n",
       "    <tr>\n",
       "      <th>FEH</th>\n",
       "      <td>2.042857</td>\n",
       "      <td>1.916667</td>\n",
       "      <td>2.169065</td>\n",
       "    </tr>\n",
       "    <tr>\n",
       "      <th>MT</th>\n",
       "      <td>7.671429</td>\n",
       "      <td>7.817460</td>\n",
       "      <td>8.633094</td>\n",
       "    </tr>\n",
       "    <tr>\n",
       "      <th>SEX</th>\n",
       "      <td>1.542857</td>\n",
       "      <td>1.722222</td>\n",
       "      <td>1.802158</td>\n",
       "    </tr>\n",
       "    <tr>\n",
       "      <th>AGE</th>\n",
       "      <td>3.014286</td>\n",
       "      <td>3.250000</td>\n",
       "      <td>3.230216</td>\n",
       "    </tr>\n",
       "    <tr>\n",
       "      <th>EDU</th>\n",
       "      <td>2.357143</td>\n",
       "      <td>4.515873</td>\n",
       "      <td>4.039568</td>\n",
       "    </tr>\n",
       "    <tr>\n",
       "      <th>HS</th>\n",
       "      <td>3.914286</td>\n",
       "      <td>3.746032</td>\n",
       "      <td>4.665468</td>\n",
       "    </tr>\n",
       "    <tr>\n",
       "      <th>CHILD</th>\n",
       "      <td>3.514286</td>\n",
       "      <td>3.313492</td>\n",
       "      <td>3.089928</td>\n",
       "    </tr>\n",
       "    <tr>\n",
       "      <th>CS</th>\n",
       "      <td>0.871429</td>\n",
       "      <td>0.904762</td>\n",
       "      <td>0.971223</td>\n",
       "    </tr>\n",
       "    <tr>\n",
       "      <th>Affluence Index</th>\n",
       "      <td>8.542857</td>\n",
       "      <td>20.599206</td>\n",
       "      <td>15.910072</td>\n",
       "    </tr>\n",
       "  </tbody>\n",
       "</table style=\"display:inline\">"
      ]
     },
     "metadata": {},
     "output_type": "display_data"
    }
   ],
   "source": [
    "# Cluster dataset using 'behaviorIndicator' and 'purchaseIndicator' into two clusters\n",
    "combinedIndicator = behaviorIndicator + purchaseBasisIndicator\n",
    "clusters = kMeansClustering(3, combinedIndicator)\n",
    "print(', '.join('Cluster {} {}'.format(i, size) for i, size in enumerate(clusterSizes(clusters))))\n",
    "\n",
    "# Display cluster centers and cluster demographics\n",
    "cc = clusterCenters(clusters, combinedIndicator).transpose()\n",
    "display_side_by_side(cc.iloc[:10, :], cc.iloc[10:, :],\n",
    "                     clusterDemographics(clusters).transpose())"
   ]
  },
  {
   "cell_type": "markdown",
   "metadata": {},
   "source": [
    "Comment:\n",
    "- Cluster 0: (n=73) Highly loyal, low value, highly responsive to price category 3 and selling proposition 14.\n",
    "- Cluster 1: (n=252) Low brand loyalty, responsive to price category 1\n",
    "- Cluster 2: (n=278) Responsive to price category 2 and selling proposition 5, otherwise somewhat middling.\n"
   ]
  },
  {
   "cell_type": "code",
   "execution_count": 6,
   "metadata": {
    "scrolled": false
   },
   "outputs": [
    {
     "name": "stdout",
     "output_type": "stream",
     "text": [
      "Cluster 0 108, Cluster 1 70, Cluster 2 202, Cluster 3 220\n"
     ]
    },
    {
     "data": {
      "text/html": [
       "<table style=\"display:inline\" border=\"1\" class=\"dataframe\">\n",
       "  <thead>\n",
       "    <tr style=\"text-align: right;\">\n",
       "      <th></th>\n",
       "      <th>0</th>\n",
       "      <th>1</th>\n",
       "      <th>2</th>\n",
       "      <th>3</th>\n",
       "    </tr>\n",
       "  </thead>\n",
       "  <tbody>\n",
       "    <tr>\n",
       "      <th>No. of Brands</th>\n",
       "      <td>-0.414750</td>\n",
       "      <td>-0.583893</td>\n",
       "      <td>0.831690</td>\n",
       "      <td>-0.374254</td>\n",
       "    </tr>\n",
       "    <tr>\n",
       "      <th>Brand Runs</th>\n",
       "      <td>-0.323453</td>\n",
       "      <td>-0.800569</td>\n",
       "      <td>0.968608</td>\n",
       "      <td>-0.475846</td>\n",
       "    </tr>\n",
       "    <tr>\n",
       "      <th>Total Volume</th>\n",
       "      <td>-0.652097</td>\n",
       "      <td>0.083386</td>\n",
       "      <td>0.296096</td>\n",
       "      <td>0.021719</td>\n",
       "    </tr>\n",
       "    <tr>\n",
       "      <th>No. of  Trans</th>\n",
       "      <td>-0.428001</td>\n",
       "      <td>-0.433421</td>\n",
       "      <td>0.822379</td>\n",
       "      <td>-0.407077</td>\n",
       "    </tr>\n",
       "    <tr>\n",
       "      <th>Value</th>\n",
       "      <td>-0.217635</td>\n",
       "      <td>-0.555616</td>\n",
       "      <td>0.388601</td>\n",
       "      <td>-0.073181</td>\n",
       "    </tr>\n",
       "    <tr>\n",
       "      <th>Trans / Brand Runs</th>\n",
       "      <td>-0.137290</td>\n",
       "      <td>1.037226</td>\n",
       "      <td>-0.297963</td>\n",
       "      <td>0.010955</td>\n",
       "    </tr>\n",
       "    <tr>\n",
       "      <th>Vol/Tran</th>\n",
       "      <td>-0.457723</td>\n",
       "      <td>0.513840</td>\n",
       "      <td>-0.355763</td>\n",
       "      <td>0.387861</td>\n",
       "    </tr>\n",
       "    <tr>\n",
       "      <th>Avg. Price</th>\n",
       "      <td>1.362917</td>\n",
       "      <td>-1.318253</td>\n",
       "      <td>0.057415</td>\n",
       "      <td>-0.302341</td>\n",
       "    </tr>\n",
       "    <tr>\n",
       "      <th>Others 999</th>\n",
       "      <td>0.523047</td>\n",
       "      <td>-1.264136</td>\n",
       "      <td>0.371432</td>\n",
       "      <td>-0.195586</td>\n",
       "    </tr>\n",
       "    <tr>\n",
       "      <th>maxBrandIndicator</th>\n",
       "      <td>-0.428661</td>\n",
       "      <td>1.421065</td>\n",
       "      <td>-0.554702</td>\n",
       "      <td>0.267594</td>\n",
       "    </tr>\n",
       "  </tbody>\n",
       "</table style=\"display:inline\"><table style=\"display:inline\" border=\"1\" class=\"dataframe\">\n",
       "  <thead>\n",
       "    <tr style=\"text-align: right;\">\n",
       "      <th></th>\n",
       "      <th>0</th>\n",
       "      <th>1</th>\n",
       "      <th>2</th>\n",
       "      <th>3</th>\n",
       "    </tr>\n",
       "  </thead>\n",
       "  <tbody>\n",
       "    <tr>\n",
       "      <th>Pur Vol No Promo - %</th>\n",
       "      <td>0.193274</td>\n",
       "      <td>0.210216</td>\n",
       "      <td>-0.477723</td>\n",
       "      <td>0.276870</td>\n",
       "    </tr>\n",
       "    <tr>\n",
       "      <th>Pur Vol Promo 6 %</th>\n",
       "      <td>-0.186015</td>\n",
       "      <td>-0.436005</td>\n",
       "      <td>0.585153</td>\n",
       "      <td>-0.307232</td>\n",
       "    </tr>\n",
       "    <tr>\n",
       "      <th>Pur Vol Other Promo %</th>\n",
       "      <td>-0.080532</td>\n",
       "      <td>0.214271</td>\n",
       "      <td>0.037105</td>\n",
       "      <td>-0.062712</td>\n",
       "    </tr>\n",
       "    <tr>\n",
       "      <th>Pr Cat 1</th>\n",
       "      <td>1.650767</td>\n",
       "      <td>-0.797226</td>\n",
       "      <td>0.042110</td>\n",
       "      <td>-0.595378</td>\n",
       "    </tr>\n",
       "    <tr>\n",
       "      <th>Pr Cat 2</th>\n",
       "      <td>-0.826802</td>\n",
       "      <td>-1.220714</td>\n",
       "      <td>0.133018</td>\n",
       "      <td>0.672159</td>\n",
       "    </tr>\n",
       "    <tr>\n",
       "      <th>Pr Cat 3</th>\n",
       "      <td>-0.478654</td>\n",
       "      <td>2.495499</td>\n",
       "      <td>-0.267225</td>\n",
       "      <td>-0.313686</td>\n",
       "    </tr>\n",
       "    <tr>\n",
       "      <th>Pr Cat 4</th>\n",
       "      <td>-0.405680</td>\n",
       "      <td>-0.336964</td>\n",
       "      <td>0.095734</td>\n",
       "      <td>0.218467</td>\n",
       "    </tr>\n",
       "    <tr>\n",
       "      <th>PropCat 5</th>\n",
       "      <td>-0.372115</td>\n",
       "      <td>-1.142977</td>\n",
       "      <td>-0.071708</td>\n",
       "      <td>0.612190</td>\n",
       "    </tr>\n",
       "    <tr>\n",
       "      <th>PropCat 14</th>\n",
       "      <td>-0.472132</td>\n",
       "      <td>2.498321</td>\n",
       "      <td>-0.270314</td>\n",
       "      <td>-0.314949</td>\n",
       "    </tr>\n",
       "  </tbody>\n",
       "</table style=\"display:inline\"><table style=\"display:inline\" border=\"1\" class=\"dataframe\">\n",
       "  <thead>\n",
       "    <tr style=\"text-align: right;\">\n",
       "      <th></th>\n",
       "      <th>0</th>\n",
       "      <th>1</th>\n",
       "      <th>2</th>\n",
       "      <th>3</th>\n",
       "    </tr>\n",
       "  </thead>\n",
       "  <tbody>\n",
       "    <tr>\n",
       "      <th>SEC</th>\n",
       "      <td>1.787037</td>\n",
       "      <td>3.400000</td>\n",
       "      <td>2.376238</td>\n",
       "      <td>2.677273</td>\n",
       "    </tr>\n",
       "    <tr>\n",
       "      <th>FEH</th>\n",
       "      <td>1.657407</td>\n",
       "      <td>2.042857</td>\n",
       "      <td>2.237624</td>\n",
       "      <td>2.068182</td>\n",
       "    </tr>\n",
       "    <tr>\n",
       "      <th>MT</th>\n",
       "      <td>6.703704</td>\n",
       "      <td>7.671429</td>\n",
       "      <td>9.029703</td>\n",
       "      <td>8.281818</td>\n",
       "    </tr>\n",
       "    <tr>\n",
       "      <th>SEX</th>\n",
       "      <td>1.472222</td>\n",
       "      <td>1.542857</td>\n",
       "      <td>1.920792</td>\n",
       "      <td>1.763636</td>\n",
       "    </tr>\n",
       "    <tr>\n",
       "      <th>AGE</th>\n",
       "      <td>3.157407</td>\n",
       "      <td>3.014286</td>\n",
       "      <td>3.326733</td>\n",
       "      <td>3.200000</td>\n",
       "    </tr>\n",
       "    <tr>\n",
       "      <th>EDU</th>\n",
       "      <td>4.157407</td>\n",
       "      <td>2.357143</td>\n",
       "      <td>4.623762</td>\n",
       "      <td>3.990909</td>\n",
       "    </tr>\n",
       "    <tr>\n",
       "      <th>HS</th>\n",
       "      <td>3.037037</td>\n",
       "      <td>3.914286</td>\n",
       "      <td>4.702970</td>\n",
       "      <td>4.377273</td>\n",
       "    </tr>\n",
       "    <tr>\n",
       "      <th>CHILD</th>\n",
       "      <td>3.546296</td>\n",
       "      <td>3.514286</td>\n",
       "      <td>3.039604</td>\n",
       "      <td>3.168182</td>\n",
       "    </tr>\n",
       "    <tr>\n",
       "      <th>CS</th>\n",
       "      <td>0.740741</td>\n",
       "      <td>0.871429</td>\n",
       "      <td>1.044554</td>\n",
       "      <td>0.940909</td>\n",
       "    </tr>\n",
       "    <tr>\n",
       "      <th>Affluence Index</th>\n",
       "      <td>17.944444</td>\n",
       "      <td>8.542857</td>\n",
       "      <td>20.871287</td>\n",
       "      <td>15.727273</td>\n",
       "    </tr>\n",
       "  </tbody>\n",
       "</table style=\"display:inline\">"
      ]
     },
     "metadata": {},
     "output_type": "display_data"
    }
   ],
   "source": [
    "# Cluster dataset using 'behaviorIndicator' and 'purchaseIndicator' into two clusters\n",
    "clusters = kMeansClustering(4, combinedIndicator)\n",
    "print(', '.join('Cluster {} {}'.format(i, size) for i, size in enumerate(clusterSizes(clusters))))\n",
    "\n",
    "# Display cluster centers and cluster demographics\n",
    "cc = clusterCenters(clusters, combinedIndicator).transpose()\n",
    "display_side_by_side(cc.iloc[:10, :], cc.iloc[10:, :],\n",
    "                     clusterDemographics(clusters).transpose())"
   ]
  },
  {
   "cell_type": "markdown",
   "metadata": {},
   "source": [
    "Comment:\n",
    "- Cluster 0 (n=108) is characterized by low volume, low loyalty, and sensitivity to promotions and price (responsive to cat. 1, unresponsive to 2 and 3), and unmoved by selling proposition. Demographically, it is affluent, of high socio-economic status, and has relatively small family size.\n",
    "- Cluster 1 (n=70) stands out in both groups of variables - it has high loyalty, low value and price per purchase, and very differential response to price (unresponsive to categories 1, 2 and 4, highly responsive to category 3), and selling proposition (unresponsive to #5, highly responsive to #14). Demographically it has low affluence and education.\n",
    "- Cluster 2 (n=202) is distinguished mostly by the purchase behavior variables - it has low brand loyalty together with high value, volume and frequency. The brand switching seems to be intrinsic - this group is not particularly responsive to promotions, pricing or selling propositions. Demographically it is relatively affluent and educated.\n",
    "- Cluster 3 (n=220) is a \"gray\" cluster, it is not characterized by very extreme/distinctive values across all variables, but is responsive to price category 2 and selling proposition 5 (similar to cluster 2 in the 3-cluster analysis). Demographically it is relatively affluent and educated. "
   ]
  },
  {
   "cell_type": "markdown",
   "metadata": {},
   "source": [
    "## Best cluster approach\n",
    "There is no single \"right\" approach to clustering; different approaches are feasible depending on\n",
    "different marketing purposes. CRISA is a marketing agency and owns the data, which it collected at\n",
    "considerable expense, so it will want to be able to use both the data and the segmentation analysis in\n",
    "different ways for different clients. Here are just a few possible marketing approaches:\n",
    "\n",
    "1. Establishing named customer \"personas,\" corresponding to the cluster segments, for use by a client's sales and marketing teams.\n",
    "2. Establishing named customer \"personas,\" corresponding to the cluster segments, for use by CRISA in providing marketing services to clients.\n",
    "3. \"Capture affluent market share\" campaign for a client who wants to target more affluent consumers who are not wedded to their current brand, and secure more brand share. \n",
    "4. \"Down market\" campaign for a data-poor client to build a \"value\" brand for less affluent consumers, much as Dollar General has done in the U.S. \n",
    "\n",
    "note: The difference between #1 and #2 is that #1, being confined to a single client, can use that client's\n",
    "customer data to refine and do more analysis. #2 would have to rely on the data collected by CRISA."
   ]
  },
  {
   "cell_type": "markdown",
   "metadata": {},
   "source": [
    "## \"Down market\" scenario\n",
    "This fourth scenario is the one we will explore further to develop a predictive model, and classify people\n",
    "into either \"value conscious\" or not. \"Data poor\" means that the client has, or can get, demographic\n",
    "data on their customers, but not detailed purchase data (particularly involving other brands). So a\n",
    "predictive model is to be built using just demographic data. We will look at the results of clustering into\n",
    "two segments based on CRISA's own detailed purchase data, then classify people into those two\n",
    "segments.\n",
    "\n",
    "Recall our characterization of the two segments:\n",
    "\n",
    "Comment: The two clusters are separated on almost all variables, Value being an important exception.\n",
    "Cluster 1 (n=73) is the more loyal, with lower socioeconomic status and affluence, and larger\n",
    "households.\n",
    "\n",
    "So our \"success\" category is cluster 1, the less affluent group, lower socioeconomic group, which also\n",
    "turns out to be highly loyal and, as it happens, spends roughly as much as the more affluent group. This\n",
    "is a promising group around which to build a down-market brand strategy.\n",
    "\n",
    "Multiple models were tried and assessed; see code for details (you will need to re-run the confusion\n",
    "matrix and plotting section after each model.) Random forest performed best; its lift curve is shown\n",
    "below. Only demographic predictors are used - CRISA will not have the detailed purchase information\n",
    "for its client's customers."
   ]
  },
  {
   "cell_type": "markdown",
   "metadata": {},
   "source": [
    "#### Results for individual models"
   ]
  },
  {
   "cell_type": "code",
   "execution_count": 7,
   "metadata": {},
   "outputs": [],
   "source": [
    "train_df, valid_df = prepareTrainTest(n_clusters=2, successCluster=1)"
   ]
  },
  {
   "cell_type": "markdown",
   "metadata": {},
   "source": [
    "Logistic regression gives an accuracy of 0.87. After ranking, we correctly assign about 65% for 20% of the validation set."
   ]
  },
  {
   "cell_type": "code",
   "execution_count": 8,
   "metadata": {},
   "outputs": [
    {
     "name": "stdout",
     "output_type": "stream",
     "text": [
      "Confusion Matrix (Accuracy 0.8667)\n",
      "\n",
      "         Prediction\n",
      "Reference   0   1\n",
      "        0 203  10\n",
      "        1  22   5\n"
     ]
    },
    {
     "data": {
      "image/png": "[encoded data removed]",
      "text/plain": [
       "<matplotlib.figure.Figure at 0x11347a860>"
      ]
     },
     "metadata": {},
     "output_type": "display_data"
    }
   ],
   "source": [
    "logit = logisticRegresssion(train_df, valid_df)"
   ]
  },
  {
   "cell_type": "markdown",
   "metadata": {},
   "source": [
    "The decision tree classifier has an accuracy of 0.89 (change the max_depth). After ranking, we correctly assign about 60% for 20% of the validation set. This is less than for logistic regression. Even though the accuracy is higher compared to logistic regression, we would use logistic regression instead of the decision tree. "
   ]
  },
  {
   "cell_type": "code",
   "execution_count": 9,
   "metadata": {},
   "outputs": [
    {
     "name": "stdout",
     "output_type": "stream",
     "text": [
      "Confusion Matrix (Accuracy 0.8958)\n",
      "\n",
      "         Prediction\n",
      "Reference   0   1\n",
      "        0 208   5\n",
      "        1  20   7\n"
     ]
    },
    {
     "data": {
      "image/png": "[encoded data removed]",
      "text/plain": [
       "<matplotlib.figure.Figure at 0x1134c09b0>"
      ]
     },
     "metadata": {},
     "output_type": "display_data"
    }
   ],
   "source": [
    "from sklearn.tree import DecisionTreeClassifier\n",
    "_ = evaluateClassifier(DecisionTreeClassifier(max_depth=5), train_df, valid_df, 'Decision tree')"
   ]
  },
  {
   "cell_type": "markdown",
   "metadata": {},
   "source": [
    "The k-nearest neighbor classifier has an accuracy of 0.89 (change the max_depth). After ranking, we correctly assign about 55% for 20% of the validation set. Because of this, we would prefer the logistic regression model to the k-nearest neighbor model."
   ]
  },
  {
   "cell_type": "code",
   "execution_count": 10,
   "metadata": {},
   "outputs": [
    {
     "name": "stdout",
     "output_type": "stream",
     "text": [
      "Confusion Matrix (Accuracy 0.8917)\n",
      "\n",
      "         Prediction\n",
      "Reference   0   1\n",
      "        0 205   8\n",
      "        1  18   9\n"
     ]
    },
    {
     "data": {
      "image/png": "[encoded data removed]",
      "text/plain": [
       "<matplotlib.figure.Figure at 0x1072089e8>"
      ]
     },
     "metadata": {},
     "output_type": "display_data"
    }
   ],
   "source": [
    "from sklearn.neighbors import KNeighborsClassifier\n",
    "knn = evaluateClassifier(KNeighborsClassifier(n_neighbors=5), train_df, valid_df, 'k-nearest neighbor')"
   ]
  },
  {
   "cell_type": "markdown",
   "metadata": {},
   "source": [
    "The k-nearest neighbor classifier has an accuracy of 0.87. After ranking, we correctly assign about 60% for 20% of the validation set. This is comparable to the logistic regression model."
   ]
  },
  {
   "cell_type": "code",
   "execution_count": 11,
   "metadata": {},
   "outputs": [
    {
     "name": "stdout",
     "output_type": "stream",
     "text": [
      "Confusion Matrix (Accuracy 0.8708)\n",
      "\n",
      "         Prediction\n",
      "Reference   0   1\n",
      "        0 208   5\n",
      "        1  26   1\n"
     ]
    },
    {
     "data": {
      "image/png": "[encoded data removed]",
      "text/plain": [
       "<matplotlib.figure.Figure at 0x118e74a90>"
      ]
     },
     "metadata": {},
     "output_type": "display_data"
    }
   ],
   "source": [
    "from sklearn.ensemble import RandomForestClassifier\n",
    "_ = evaluateClassifier(RandomForestClassifier(random_state=0, n_estimators=100), train_df, valid_df, 'Random forest')"
   ]
  },
  {
   "cell_type": "markdown",
   "metadata": {},
   "source": [
    "The Adaboost classifier gives and accuracy of 0.87 (vary max_depth). In this case, we correctly assign about 70% for 20% of the ranked data."
   ]
  },
  {
   "cell_type": "code",
   "execution_count": 12,
   "metadata": {},
   "outputs": [
    {
     "name": "stdout",
     "output_type": "stream",
     "text": [
      "Confusion Matrix (Accuracy 0.8792)\n",
      "\n",
      "         Prediction\n",
      "Reference   0   1\n",
      "        0 207   6\n",
      "        1  23   4\n"
     ]
    },
    {
     "data": {
      "image/png": "[encoded data removed]",
      "text/plain": [
       "<matplotlib.figure.Figure at 0x118ef6208>"
      ]
     },
     "metadata": {},
     "output_type": "display_data"
    }
   ],
   "source": [
    "from sklearn.ensemble import AdaBoostClassifier\n",
    "_ = evaluateClassifier(AdaBoostClassifier(n_estimators=100, base_estimator=DecisionTreeClassifier(max_depth=5)), \n",
    "                       train_df, valid_df)"
   ]
  },
  {
   "cell_type": "markdown",
   "metadata": {},
   "source": [
    "The Adaboost classifier gives and accuracy of 0.89 (vary max_depth). In this case, we correctly assign about 65% for 20% of the ranked data."
   ]
  },
  {
   "cell_type": "code",
   "execution_count": 13,
   "metadata": {},
   "outputs": [
    {
     "name": "stdout",
     "output_type": "stream",
     "text": [
      "Confusion Matrix (Accuracy 0.8875)\n",
      "\n",
      "         Prediction\n",
      "Reference   0   1\n",
      "        0 211   2\n",
      "        1  25   2\n"
     ]
    },
    {
     "data": {
      "image/png": "[encoded data removed]",
      "text/plain": [
       "<matplotlib.figure.Figure at 0x118f022b0>"
      ]
     },
     "metadata": {},
     "output_type": "display_data"
    }
   ],
   "source": [
    "from sklearn.ensemble import BaggingClassifier\n",
    "clf = BaggingClassifier(n_estimators=100, base_estimator=DecisionTreeClassifier(max_depth=5), random_state=1)\n",
    "_ = evaluateClassifier(clf, train_df, valid_df, 'Bagging')"
   ]
  },
  {
   "cell_type": "markdown",
   "metadata": {},
   "source": [
    "#### Summary\n",
    "The analysis of the varies models favors the adaboost model. While it doesn't have the highest accuracy, the lift curve shows that it returns more correctly assigned for 20% of the ranked validation set."
   ]
  },
  {
   "cell_type": "markdown",
   "metadata": {},
   "source": [
    "## What's next?\n",
    "Many data mining algorithms are iterative in an mathematical sense - iteration is used to find a good, if\n",
    "not best, solution. The modeling process itself is also iterative. In initial exploration, we do not seek the\n",
    "perfect model, merely something to get started. Results are assessed, and we typically continue with a\n",
    "modified approach.\n",
    "\n",
    "Several steps can be explored next to improve predictive performance:\n",
    "\n",
    "1. Some of the demographic categorical variables may not have much value being treated as is, as ordered categorical variables. They could be reviewed and turned into binary dummies.\n",
    "2. Instead of using a two-cluster model, a multi-cluster model could be used in hopes of deriving more distinguishable clusters. The non-success clusters could then be consolidated. For example, cluster #2 in the 4-cluster model is similar to our cluster 1 (\"success\") in the 2-cluster model, only more sharply defined.\n",
    "3. Demographic predictors could be added to the original clustering process.\n",
    "4. The clustering process, which includes a randomization component that yields variability in resulting clusters, can be repeated, to ensure that the cluster labels reflect some degree of stability. Repetition should show some clustering results that are consistent across various runs. Choosing for your labels a clustering result that is very inconsistent with the others could mean that you are labeling your market segments according to a chance fluke.\n",
    "5. In the real world, going beyond the parameters of this case study, CRISA would probably work with the client to add the client's own purchase data to the model to improve it over time."
   ]
  },
  {
   "cell_type": "code",
   "execution_count": null,
   "metadata": {},
   "outputs": [],
   "source": []
  }
 ],
 "metadata": {
  "kernelspec": {
   "display_name": "Python 3",
   "language": "python",
   "name": "python3"
  },
  "language_info": {
   "codemirror_mode": {
    "name": "ipython",
    "version": 3
   },
   "file_extension": ".py",
   "mimetype": "text/x-python",
   "name": "python",
   "nbconvert_exporter": "python",
   "pygments_lexer": "ipython3",
   "version": "3.6.2"
  }
 },
 "nbformat": 4,
 "nbformat_minor": 2
}
