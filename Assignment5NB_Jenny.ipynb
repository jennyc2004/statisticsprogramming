{
 "cells": [
  {
   "cell_type": "code",
   "execution_count": 8,
   "metadata": {},
   "outputs": [],
   "source": [
    "%matplotlib inline\n",
    "\n",
    "from pathlib import Path\n",
    "import pandas as pd\n",
    "import numpy as np\n",
    "import math\n",
    "from sklearn import preprocessing\n",
    "from sklearn.naive_bayes import MultinomialNB\n",
    "from sklearn.metrics.classification import accuracy_score\n",
    "from sklearn.metrics import roc_curve, auc\n",
    "import matplotlib.pylab as plt\n",
    "from utilities import printConfusionMatrix\n",
    "\n",
    "#import data and organize table for easier usage\n",
    "DATA = Path('.').resolve().parent/'data'\n",
    "bank_df = pd.read_csv(DATA/'UniversalBank.csv')\n",
    "bank_df.drop(columns = ['ID', 'Age', 'Experience', 'Income', 'ZIP Code', \n",
    "                        'Family', 'CCAvg', 'Education', 'Mortgage', \n",
    "                        'Securities Account', 'CD Account', ], inplace = True)\n",
    "columns = list(bank_df.columns)\n",
    "columns.remove('Personal Loan')\n",
    "columns.append('Personal Loan')\n",
    "bank_df = bank_df[columns]\n",
    "bank_df.columns = ['Online', 'CC', 'Loan']\n",
    "trainData = bank_df.sample(frac=0.6, random_state=12345)\n",
    "validData = bank_df.drop(trainData.index)"
   ]
  },
  {
   "cell_type": "markdown",
   "metadata": {},
   "source": [
    "Question 1 (2 points)\n",
    "Create a pivot table for the training data with Online as a column variable , CC as a row variable, and Loan as a secondary row variable. The values inside the cells should convey the count (number of records)."
   ]
  },
  {
   "cell_type": "code",
   "execution_count": 9,
   "metadata": {},
   "outputs": [
    {
     "data": {
      "text/html": [
       "<div>\n",
       "<style scoped>\n",
       "    .dataframe tbody tr th:only-of-type {\n",
       "        vertical-align: middle;\n",
       "    }\n",
       "\n",
       "    .dataframe tbody tr th {\n",
       "        vertical-align: top;\n",
       "    }\n",
       "\n",
       "    .dataframe thead th {\n",
       "        text-align: right;\n",
       "    }\n",
       "</style>\n",
       "<table border=\"1\" class=\"dataframe\">\n",
       "  <thead>\n",
       "    <tr style=\"text-align: right;\">\n",
       "      <th></th>\n",
       "      <th>Online</th>\n",
       "      <th>0</th>\n",
       "      <th>1</th>\n",
       "    </tr>\n",
       "    <tr>\n",
       "      <th>CC</th>\n",
       "      <th>Loan</th>\n",
       "      <th></th>\n",
       "      <th></th>\n",
       "    </tr>\n",
       "  </thead>\n",
       "  <tbody>\n",
       "    <tr>\n",
       "      <th rowspan=\"2\" valign=\"top\">0</th>\n",
       "      <th>0</th>\n",
       "      <td>795</td>\n",
       "      <td>1147</td>\n",
       "    </tr>\n",
       "    <tr>\n",
       "      <th>1</th>\n",
       "      <td>77</td>\n",
       "      <td>118</td>\n",
       "    </tr>\n",
       "    <tr>\n",
       "      <th rowspan=\"2\" valign=\"top\">1</th>\n",
       "      <th>0</th>\n",
       "      <td>302</td>\n",
       "      <td>476</td>\n",
       "    </tr>\n",
       "    <tr>\n",
       "      <th>1</th>\n",
       "      <td>35</td>\n",
       "      <td>50</td>\n",
       "    </tr>\n",
       "  </tbody>\n",
       "</table>\n",
       "</div>"
      ],
      "text/plain": [
       "Online     0     1\n",
       "CC Loan           \n",
       "0  0     795  1147\n",
       "   1      77   118\n",
       "1  0     302   476\n",
       "   1      35    50"
      ]
     },
     "execution_count": 9,
     "metadata": {},
     "output_type": "execute_result"
    }
   ],
   "source": [
    "table = pd.pivot_table(trainData, index=['CC', 'Loan'],\n",
    "                    columns=['Online'], aggfunc=lambda x: len(x))\n",
    "table"
   ]
  },
  {
   "cell_type": "markdown",
   "metadata": {},
   "source": [
    "Question 2 (2 points)\n",
    "Consider the task of classifying a customer who owns a bank credit card and is actively using online banking services. Looking at the pivot table that you created, what is the probability that this customer will accept the loan offer?\n",
    "P(Loan=1|CC=1, Online=1)"
   ]
  },
  {
   "cell_type": "code",
   "execution_count": 10,
   "metadata": {},
   "outputs": [
    {
     "name": "stdout",
     "output_type": "stream",
     "text": [
      "Probability (Customer will accept the loan if CC=1, Online == 1) = 0.0951\n"
     ]
    }
   ],
   "source": [
    "p = 50/(476+50) \n",
    "print(\"Probability (Customer will accept the loan if CC=1, Online == 1) = %0.4f\" %p)"
   ]
  },
  {
   "cell_type": "markdown",
   "metadata": {},
   "source": [
    "Question 3 (6 points)\n",
    "One will have Loan (rows) as a function of Online (columns) and the other will have \n",
    "Loan (rows) as a function of CC. Compute the probabilities below (report three decimals).\n",
    "Note: P(A|B) means \"the probability of A given B\".\n",
    "P(CC = 1|Loan = 1) = the proportion of credit card holders among the loan acceptors\n",
    "P(Online = 1|Loan = 1)\n",
    "P(Loan = 1) = the proportion of loan acceptors\n",
    "P(CC = 1|Loan = 0)\n",
    "P(Online = 1|Loan = 0)\n",
    "P(Loan = 0)"
   ]
  },
  {
   "cell_type": "code",
   "execution_count": 11,
   "metadata": {},
   "outputs": [
    {
     "name": "stdout",
     "output_type": "stream",
     "text": [
      "Online     0     1\n",
      "Loan              \n",
      "0       1097  1623\n",
      "1        112   168\n",
      "CC       0    1\n",
      "Loan           \n",
      "0     1942  778\n",
      "1      195   85\n"
     ]
    }
   ],
   "source": [
    "table1 = pd.pivot_table(trainData.drop('CC', axis=1), index = ['Loan'], columns = ['Online'], aggfunc=lambda x: len(x))\n",
    "table2 = pd.pivot_table(trainData.drop('Online', axis = 1), index = ['Loan'], columns = ['CC'], aggfunc=lambda x: len(x))\n",
    "print(table1)\n",
    "print(table2)"
   ]
  },
  {
   "cell_type": "code",
   "execution_count": 12,
   "metadata": {},
   "outputs": [
    {
     "name": "stdout",
     "output_type": "stream",
     "text": [
      "P(CC = 1|Loan = 1) = 0.304\n",
      "P(Online = 1|Loan = 1) = 0.600\n",
      "P(Loan = 1) = 0.093\n",
      "P(CC = 1|Loan = 0) = 0.286\n",
      "P(Online = 1|Loan = 0) = 0.597\n",
      "P(Loan = 0) = 0.907\n"
     ]
    }
   ],
   "source": [
    "#P(CC = 1|Loan = 1) = the proportion of credit card holders among the loan acceptors\n",
    "p1 = 85/(195+85)\n",
    "#P(Online = 1|Loan = 1)\n",
    "p2 = 168/(112+168)\n",
    "#P(Loan = 1) = the proportion of loan acceptors\n",
    "p3 = (112+168)/3000\n",
    "#P(CC = 1|Loan = 0)\n",
    "p4 = 778/(1942+778)\n",
    "#P(Online = 1|Loan = 0)\n",
    "p5 = 1623/(1097+1623)\n",
    "#P(Loan = 0)\n",
    "p6 = (1097+1623)/3000\n",
    "print(\"P(CC = 1|Loan = 1) = %0.3f\\nP(Online = 1|Loan = 1) = %0.3f\\nP(Loan = 1) = %0.3f\\nP(CC = 1|Loan = 0) = %0.3f\\n\"\n",
    "\"P(Online = 1|Loan = 0) = %0.3f\\nP(Loan = 0) = %0.3f\" %(p1, p2, p3, p4, p5, p6)) "
   ]
  },
  {
   "cell_type": "markdown",
   "metadata": {},
   "source": [
    "Question 4 (2 points) \n",
    "Compute the naive Bayes probability P(Loan = 1|CC = 1, Online = 1). \n",
    "Note: Use the quantities that you computed in the previous question. "
   ]
  },
  {
   "cell_type": "code",
   "execution_count": 13,
   "metadata": {},
   "outputs": [
    {
     "name": "stdout",
     "output_type": "stream",
     "text": [
      "the naive Bayes probability P(Loan = 1|CC = 1, Online = 1) = 0.0990\n"
     ]
    }
   ],
   "source": [
    "#P(Loan = 1|CC = 1, Online = 1) = P(Loan = 1) * P(CC = 1, Online = 1|Loan = 1)/P(CC=1, Online = 1)\n",
    "#=P(Loan = 1) * P(CC = 1|Loan = 1) * P(Online =1|Loan = 1)/P(CC=1)*P(Online = 1)\n",
    "#if we assume CC and Online is independent\n",
    "p = (p3*p1*p2)/((p1*p3 + p4*p6)*(p2*p3 + p5*p6))\n",
    "print(\"the naive Bayes probability P(Loan = 1|CC = 1, Online = 1) = %0.4f\" %p)\n",
    "pCC = sum(trainData.CC)/len(trainData)\n",
    "pOnline = sum(trainData.Online)/len(trainData)"
   ]
  },
  {
   "cell_type": "markdown",
   "metadata": {},
   "source": [
    "Question 5 (2 points) \n",
    "Of the two values that you computed earlier ( computed in Q2 and Q4), which is a more accurate estimate of P(Loan=1|CC=1, Online=1)? \n",
    "\n",
    "The value in Q2 is a more accurate estimate of P(Loan=1|CC=1, Online=1) since NB probability will assume CC and Online is independent"
   ]
  },
  {
   "cell_type": "markdown",
   "metadata": {},
   "source": [
    "Question 6 (6 points) \n",
    "In Python, run naive Bayes on the training data and examine the output and find entries that are needed for computing P(Loan = 1|CC = 1, Online = 1). Compute this probability, and also the predicted probability for P(Loan=1 | Online = 1, CC = 1) "
   ]
  },
  {
   "cell_type": "code",
   "execution_count": 14,
   "metadata": {},
   "outputs": [
    {
     "data": {
      "text/plain": [
       "Online    int64\n",
       "CC        int64\n",
       "Loan      int64\n",
       "dtype: object"
      ]
     },
     "execution_count": 14,
     "metadata": {},
     "output_type": "execute_result"
    }
   ],
   "source": [
    "trainData.dtypes"
   ]
  },
  {
   "cell_type": "code",
   "execution_count": 15,
   "metadata": {},
   "outputs": [
    {
     "data": {
      "text/plain": [
       "MultinomialNB(alpha=0.01, class_prior=None, fit_prior=True)"
      ]
     },
     "execution_count": 15,
     "metadata": {},
     "output_type": "execute_result"
    }
   ],
   "source": [
    "trainData.Online = trainData.Online.astype('category')\n",
    "trainData.CC = trainData.CC.astype('category')\n",
    "trainData = pd.get_dummies(trainData, prefix_sep='_')\n",
    "trainData.Loan = trainData.Loan.astype('category')\n",
    "loans_nb = MultinomialNB(alpha=0.01)\n",
    "loans_nb.fit(trainData.drop(columns=['Loan']), trainData['Loan'])"
   ]
  },
  {
   "cell_type": "code",
   "execution_count": 16,
   "metadata": {},
   "outputs": [
    {
     "data": {
      "text/plain": [
       "Loan        category\n",
       "Online_0       uint8\n",
       "Online_1       uint8\n",
       "CC_0           uint8\n",
       "CC_1           uint8\n",
       "dtype: object"
      ]
     },
     "execution_count": 16,
     "metadata": {},
     "output_type": "execute_result"
    }
   ],
   "source": [
    "trainData.dtypes"
   ]
  },
  {
   "cell_type": "code",
   "execution_count": 21,
   "metadata": {},
   "outputs": [
    {
     "name": "stdout",
     "output_type": "stream",
     "text": [
      "A-priori probabilities\n",
      "['0: 0.9066666666666672', '1: 0.09333333333333338']\n",
      "P(Loan = 0) =  0.9066666666666672\n",
      "P(Loan = 1) =  0.09333333333333338\n"
     ]
    }
   ],
   "source": [
    "le = preprocessing.LabelEncoder()\n",
    "trainData.loc[:, 'Loan'] = le.fit_transform(trainData['Loan'])\n",
    "classes = le.classes_\n",
    "print('A-priori probabilities')\n",
    "print(['{}: {}'.format(cls, math.exp(p)) for cls, p in zip(classes, loans_nb.class_log_prior_)])\n",
    "prio0 = math.exp(loans_nb.class_log_prior_[0])\n",
    "prio1 = math.exp(loans_nb.class_log_prior_[1])\n",
    "print('P(Loan = 0) = ', prio0)\n",
    "print('P(Loan = 1) = ', prio1)"
   ]
  },
  {
   "cell_type": "code",
   "execution_count": 42,
   "metadata": {},
   "outputs": [
    {
     "name": "stdout",
     "output_type": "stream",
     "text": [
      "A-priori probabilities\n",
      "['0: 0.9066666666666672', '1: 0.09333333333333338']\n",
      "\n",
      "Conditional probabilities\n",
      "   Online_0 Online_1     CC_0     CC_1\n",
      " 0   0.2017   0.2983   0.3570   0.1430\n",
      " 1   0.2000   0.3000   0.3482   0.1518\n",
      "\n",
      "0.15178571428571427 0.3 0.04666666666666667 0.14301470588235293 0.2983455882352941 0.4533333333333333\n"
     ]
    }
   ],
   "source": [
    "classes = [0, 1]\n",
    "columns = list(trainData.columns)\n",
    "columns.remove('Loan')\n",
    "columns\n",
    "print('A-priori probabilities')\n",
    "print(['{}: {}'.format(cls, math.exp(p)) for cls, p in zip(classes, loans_nb.class_log_prior_)])\n",
    "\n",
    "print('\\nConditional probabilities')\n",
    "\n",
    "nvars = 5\n",
    "clsWidth = 1\n",
    "colWidth = max(len(column) for column in columns)\n",
    "# Construct the format statements\n",
    "fmt1 = '{{:>{}}}'.format(clsWidth + 1)\n",
    "\n",
    "i1 = 0\n",
    "while i1 < len(columns) - 1:\n",
    "    i2 = min(i1 + nvars, len(columns))\n",
    "    print(fmt1.format(''), end='')\n",
    "    fmt2 = '{{:>{}}}'.format(colWidth + 1) * (i2 - i1)\n",
    "    print(fmt2.format(*(columns[i1:i2])))\n",
    "    fmt2 = '{{:{}.4f}}'.format(colWidth + 1) * (i2 - i1)\n",
    "    for i, cls in enumerate(classes):\n",
    "        print(fmt1.format(cls), end='')\n",
    "        row = [math.exp(p) for p in loans_nb.feature_log_prob_[i][i1:i2]]\n",
    "        print(fmt2.format(*row))\n",
    "    print()\n",
    "    i1 = i2\n",
    "#it seems feature_log_prob_ conditional probability need to divide half"
   ]
  },
  {
   "cell_type": "code",
   "execution_count": 23,
   "metadata": {},
   "outputs": [
    {
     "data": {
      "text/html": [
       "<div>\n",
       "<style scoped>\n",
       "    .dataframe tbody tr th:only-of-type {\n",
       "        vertical-align: middle;\n",
       "    }\n",
       "\n",
       "    .dataframe tbody tr th {\n",
       "        vertical-align: top;\n",
       "    }\n",
       "\n",
       "    .dataframe thead th {\n",
       "        text-align: right;\n",
       "    }\n",
       "</style>\n",
       "<table border=\"1\" class=\"dataframe\">\n",
       "  <thead>\n",
       "    <tr style=\"text-align: right;\">\n",
       "      <th></th>\n",
       "      <th>Loan</th>\n",
       "      <th>Online_0</th>\n",
       "      <th>Online_1</th>\n",
       "      <th>CC_0</th>\n",
       "      <th>CC_1</th>\n",
       "      <th>0</th>\n",
       "      <th>1</th>\n",
       "    </tr>\n",
       "  </thead>\n",
       "  <tbody>\n",
       "    <tr>\n",
       "      <th>2282</th>\n",
       "      <td>0</td>\n",
       "      <td>0</td>\n",
       "      <td>1</td>\n",
       "      <td>0</td>\n",
       "      <td>1</td>\n",
       "      <td>0.901012</td>\n",
       "      <td>0.098988</td>\n",
       "    </tr>\n",
       "    <tr>\n",
       "      <th>4456</th>\n",
       "      <td>0</td>\n",
       "      <td>0</td>\n",
       "      <td>1</td>\n",
       "      <td>0</td>\n",
       "      <td>1</td>\n",
       "      <td>0.901012</td>\n",
       "      <td>0.098988</td>\n",
       "    </tr>\n",
       "    <tr>\n",
       "      <th>143</th>\n",
       "      <td>0</td>\n",
       "      <td>0</td>\n",
       "      <td>1</td>\n",
       "      <td>0</td>\n",
       "      <td>1</td>\n",
       "      <td>0.901012</td>\n",
       "      <td>0.098988</td>\n",
       "    </tr>\n",
       "    <tr>\n",
       "      <th>1946</th>\n",
       "      <td>0</td>\n",
       "      <td>0</td>\n",
       "      <td>1</td>\n",
       "      <td>0</td>\n",
       "      <td>1</td>\n",
       "      <td>0.901012</td>\n",
       "      <td>0.098988</td>\n",
       "    </tr>\n",
       "    <tr>\n",
       "      <th>29</th>\n",
       "      <td>1</td>\n",
       "      <td>0</td>\n",
       "      <td>1</td>\n",
       "      <td>0</td>\n",
       "      <td>1</td>\n",
       "      <td>0.901012</td>\n",
       "      <td>0.098988</td>\n",
       "    </tr>\n",
       "  </tbody>\n",
       "</table>\n",
       "</div>"
      ],
      "text/plain": [
       "      Loan  Online_0  Online_1  CC_0  CC_1         0         1\n",
       "2282     0         0         1     0     1  0.901012  0.098988\n",
       "4456     0         0         1     0     1  0.901012  0.098988\n",
       "143      0         0         1     0     1  0.901012  0.098988\n",
       "1946     0         0         1     0     1  0.901012  0.098988\n",
       "29       1         0         1     0     1  0.901012  0.098988"
      ]
     },
     "execution_count": 23,
     "metadata": {},
     "output_type": "execute_result"
    }
   ],
   "source": [
    "predProb = loans_nb.predict_proba(trainData.drop(columns=['Loan']))\n",
    "predicted = pd.concat([trainData, pd.DataFrame(predProb, index=trainData.index)], axis=1)\n",
    "predicted[(predicted.Online_1 == 1) & (predicted.CC_1 == 1)].head()"
   ]
  },
  {
   "cell_type": "code",
   "execution_count": null,
   "metadata": {},
   "outputs": [],
   "source": []
  }
 ],
 "metadata": {
  "kernelspec": {
   "display_name": "Python 3",
   "language": "python",
   "name": "python3"
  },
  "language_info": {
   "codemirror_mode": {
    "name": "ipython",
    "version": 3
   },
   "file_extension": ".py",
   "mimetype": "text/x-python",
   "name": "python",
   "nbconvert_exporter": "python",
   "pygments_lexer": "ipython3",
   "version": "3.6.5"
  }
 },
 "nbformat": 4,
 "nbformat_minor": 2
}
